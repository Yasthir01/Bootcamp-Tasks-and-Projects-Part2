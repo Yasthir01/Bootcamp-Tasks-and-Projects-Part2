{
  "nbformat": 4,
  "nbformat_minor": 0,
  "metadata": {
    "colab": {
      "name": "us_accidents_dataset.ipynb",
      "provenance": [],
      "collapsed_sections": []
    },
    "kernelspec": {
      "name": "python3",
      "display_name": "Python 3"
    },
    "language_info": {
      "name": "python"
    }
  },
  "cells": [
    {
      "cell_type": "markdown",
      "metadata": {
        "id": "GM89NV6uoAVn"
      },
      "source": [
        "# Capstone Project - US Accidents"
      ]
    },
    {
      "cell_type": "code",
      "metadata": {
        "id": "4wiyVMnyoq93"
      },
      "source": [
        "pip install opendatasets --upgrade --quiet"
      ],
      "execution_count": 1,
      "outputs": []
    },
    {
      "cell_type": "code",
      "metadata": {
        "colab": {
          "base_uri": "https://localhost:8080/"
        },
        "id": "7yIKUI9SpeOK",
        "outputId": "57f18742-bb91-41fe-837f-b6c127eb9cb4"
      },
      "source": [
        "import opendatasets as od\n",
        "\n",
        "download_url = 'https://www.kaggle.com/sobhanmoosavi/us-accidents'\n",
        "od.download(download_url)"
      ],
      "execution_count": 2,
      "outputs": [
        {
          "output_type": "stream",
          "name": "stdout",
          "text": [
            "Please provide your Kaggle credentials to download this dataset. Learn more: http://bit.ly/kaggle-creds\n",
            "Your Kaggle username: yasthirdhewnarian\n",
            "Your Kaggle Key: ··········\n",
            "Downloading us-accidents.zip to ./us-accidents\n"
          ]
        },
        {
          "output_type": "stream",
          "name": "stderr",
          "text": [
            "100%|██████████| 117M/117M [00:01<00:00, 119MB/s]\n"
          ]
        },
        {
          "output_type": "stream",
          "name": "stdout",
          "text": [
            "\n"
          ]
        }
      ]
    },
    {
      "cell_type": "code",
      "metadata": {
        "id": "k1Ujdhobpr6I"
      },
      "source": [
        "data_filename = '/content/us-accidents/US_Accidents_Dec20_updated.csv'"
      ],
      "execution_count": 3,
      "outputs": []
    },
    {
      "cell_type": "markdown",
      "metadata": {
        "id": "MEO9Z3fOoWqC"
      },
      "source": [
        "## Data preparation and cleaning"
      ]
    },
    {
      "cell_type": "code",
      "metadata": {
        "id": "ozh4DegBrhRi"
      },
      "source": [
        "import pandas as pd"
      ],
      "execution_count": 4,
      "outputs": []
    },
    {
      "cell_type": "code",
      "metadata": {
        "id": "iylyi3aluDLv"
      },
      "source": [
        "# read in the dataset\n",
        "df = pd.read_csv(data_filename)"
      ],
      "execution_count": 5,
      "outputs": []
    },
    {
      "cell_type": "code",
      "metadata": {
        "colab": {
          "base_uri": "https://localhost:8080/",
          "height": 881
        },
        "id": "8EbfhNJfuLRk",
        "outputId": "b8307177-211d-405c-aa6b-6e46738a6ffd"
      },
      "source": [
        "df"
      ],
      "execution_count": 6,
      "outputs": [
        {
          "output_type": "execute_result",
          "data": {
            "text/html": [
              "<div>\n",
              "<style scoped>\n",
              "    .dataframe tbody tr th:only-of-type {\n",
              "        vertical-align: middle;\n",
              "    }\n",
              "\n",
              "    .dataframe tbody tr th {\n",
              "        vertical-align: top;\n",
              "    }\n",
              "\n",
              "    .dataframe thead th {\n",
              "        text-align: right;\n",
              "    }\n",
              "</style>\n",
              "<table border=\"1\" class=\"dataframe\">\n",
              "  <thead>\n",
              "    <tr style=\"text-align: right;\">\n",
              "      <th></th>\n",
              "      <th>ID</th>\n",
              "      <th>Severity</th>\n",
              "      <th>Start_Time</th>\n",
              "      <th>End_Time</th>\n",
              "      <th>Start_Lat</th>\n",
              "      <th>Start_Lng</th>\n",
              "      <th>End_Lat</th>\n",
              "      <th>End_Lng</th>\n",
              "      <th>Distance(mi)</th>\n",
              "      <th>Description</th>\n",
              "      <th>Number</th>\n",
              "      <th>Street</th>\n",
              "      <th>Side</th>\n",
              "      <th>City</th>\n",
              "      <th>County</th>\n",
              "      <th>State</th>\n",
              "      <th>Zipcode</th>\n",
              "      <th>Country</th>\n",
              "      <th>Timezone</th>\n",
              "      <th>Airport_Code</th>\n",
              "      <th>Weather_Timestamp</th>\n",
              "      <th>Temperature(F)</th>\n",
              "      <th>Wind_Chill(F)</th>\n",
              "      <th>Humidity(%)</th>\n",
              "      <th>Pressure(in)</th>\n",
              "      <th>Visibility(mi)</th>\n",
              "      <th>Wind_Direction</th>\n",
              "      <th>Wind_Speed(mph)</th>\n",
              "      <th>Precipitation(in)</th>\n",
              "      <th>Weather_Condition</th>\n",
              "      <th>Amenity</th>\n",
              "      <th>Bump</th>\n",
              "      <th>Crossing</th>\n",
              "      <th>Give_Way</th>\n",
              "      <th>Junction</th>\n",
              "      <th>No_Exit</th>\n",
              "      <th>Railway</th>\n",
              "      <th>Roundabout</th>\n",
              "      <th>Station</th>\n",
              "      <th>Stop</th>\n",
              "      <th>Traffic_Calming</th>\n",
              "      <th>Traffic_Signal</th>\n",
              "      <th>Turning_Loop</th>\n",
              "      <th>Sunrise_Sunset</th>\n",
              "      <th>Civil_Twilight</th>\n",
              "      <th>Nautical_Twilight</th>\n",
              "      <th>Astronomical_Twilight</th>\n",
              "    </tr>\n",
              "  </thead>\n",
              "  <tbody>\n",
              "    <tr>\n",
              "      <th>0</th>\n",
              "      <td>A-2716600</td>\n",
              "      <td>3</td>\n",
              "      <td>2016-02-08 00:37:08</td>\n",
              "      <td>2016-02-08 06:37:08</td>\n",
              "      <td>40.10891</td>\n",
              "      <td>-83.09286</td>\n",
              "      <td>40.11206</td>\n",
              "      <td>-83.03187</td>\n",
              "      <td>3.230</td>\n",
              "      <td>Between Sawmill Rd/Exit 20 and OH-315/Olentang...</td>\n",
              "      <td>NaN</td>\n",
              "      <td>Outerbelt E</td>\n",
              "      <td>R</td>\n",
              "      <td>Dublin</td>\n",
              "      <td>Franklin</td>\n",
              "      <td>OH</td>\n",
              "      <td>43017</td>\n",
              "      <td>US</td>\n",
              "      <td>US/Eastern</td>\n",
              "      <td>KOSU</td>\n",
              "      <td>2016-02-08 00:53:00</td>\n",
              "      <td>42.1</td>\n",
              "      <td>36.1</td>\n",
              "      <td>58.0</td>\n",
              "      <td>29.76</td>\n",
              "      <td>10.0</td>\n",
              "      <td>SW</td>\n",
              "      <td>10.4</td>\n",
              "      <td>0.00</td>\n",
              "      <td>Light Rain</td>\n",
              "      <td>False</td>\n",
              "      <td>False</td>\n",
              "      <td>False</td>\n",
              "      <td>False</td>\n",
              "      <td>False</td>\n",
              "      <td>False</td>\n",
              "      <td>False</td>\n",
              "      <td>False</td>\n",
              "      <td>False</td>\n",
              "      <td>False</td>\n",
              "      <td>False</td>\n",
              "      <td>False</td>\n",
              "      <td>False</td>\n",
              "      <td>Night</td>\n",
              "      <td>Night</td>\n",
              "      <td>Night</td>\n",
              "      <td>Night</td>\n",
              "    </tr>\n",
              "    <tr>\n",
              "      <th>1</th>\n",
              "      <td>A-2716601</td>\n",
              "      <td>2</td>\n",
              "      <td>2016-02-08 05:56:20</td>\n",
              "      <td>2016-02-08 11:56:20</td>\n",
              "      <td>39.86542</td>\n",
              "      <td>-84.06280</td>\n",
              "      <td>39.86501</td>\n",
              "      <td>-84.04873</td>\n",
              "      <td>0.747</td>\n",
              "      <td>At OH-4/OH-235/Exit 41 - Accident.</td>\n",
              "      <td>NaN</td>\n",
              "      <td>I-70 E</td>\n",
              "      <td>R</td>\n",
              "      <td>Dayton</td>\n",
              "      <td>Montgomery</td>\n",
              "      <td>OH</td>\n",
              "      <td>45424</td>\n",
              "      <td>US</td>\n",
              "      <td>US/Eastern</td>\n",
              "      <td>KFFO</td>\n",
              "      <td>2016-02-08 05:58:00</td>\n",
              "      <td>36.9</td>\n",
              "      <td>NaN</td>\n",
              "      <td>91.0</td>\n",
              "      <td>29.68</td>\n",
              "      <td>10.0</td>\n",
              "      <td>Calm</td>\n",
              "      <td>NaN</td>\n",
              "      <td>0.02</td>\n",
              "      <td>Light Rain</td>\n",
              "      <td>False</td>\n",
              "      <td>False</td>\n",
              "      <td>False</td>\n",
              "      <td>False</td>\n",
              "      <td>False</td>\n",
              "      <td>False</td>\n",
              "      <td>False</td>\n",
              "      <td>False</td>\n",
              "      <td>False</td>\n",
              "      <td>False</td>\n",
              "      <td>False</td>\n",
              "      <td>False</td>\n",
              "      <td>False</td>\n",
              "      <td>Night</td>\n",
              "      <td>Night</td>\n",
              "      <td>Night</td>\n",
              "      <td>Night</td>\n",
              "    </tr>\n",
              "    <tr>\n",
              "      <th>2</th>\n",
              "      <td>A-2716602</td>\n",
              "      <td>2</td>\n",
              "      <td>2016-02-08 06:15:39</td>\n",
              "      <td>2016-02-08 12:15:39</td>\n",
              "      <td>39.10266</td>\n",
              "      <td>-84.52468</td>\n",
              "      <td>39.10209</td>\n",
              "      <td>-84.52396</td>\n",
              "      <td>0.055</td>\n",
              "      <td>At I-71/US-50/Exit 1 - Accident.</td>\n",
              "      <td>NaN</td>\n",
              "      <td>I-75 S</td>\n",
              "      <td>R</td>\n",
              "      <td>Cincinnati</td>\n",
              "      <td>Hamilton</td>\n",
              "      <td>OH</td>\n",
              "      <td>45203</td>\n",
              "      <td>US</td>\n",
              "      <td>US/Eastern</td>\n",
              "      <td>KLUK</td>\n",
              "      <td>2016-02-08 05:53:00</td>\n",
              "      <td>36.0</td>\n",
              "      <td>NaN</td>\n",
              "      <td>97.0</td>\n",
              "      <td>29.70</td>\n",
              "      <td>10.0</td>\n",
              "      <td>Calm</td>\n",
              "      <td>NaN</td>\n",
              "      <td>0.02</td>\n",
              "      <td>Overcast</td>\n",
              "      <td>False</td>\n",
              "      <td>False</td>\n",
              "      <td>False</td>\n",
              "      <td>False</td>\n",
              "      <td>True</td>\n",
              "      <td>False</td>\n",
              "      <td>False</td>\n",
              "      <td>False</td>\n",
              "      <td>False</td>\n",
              "      <td>False</td>\n",
              "      <td>False</td>\n",
              "      <td>False</td>\n",
              "      <td>False</td>\n",
              "      <td>Night</td>\n",
              "      <td>Night</td>\n",
              "      <td>Night</td>\n",
              "      <td>Day</td>\n",
              "    </tr>\n",
              "    <tr>\n",
              "      <th>3</th>\n",
              "      <td>A-2716603</td>\n",
              "      <td>2</td>\n",
              "      <td>2016-02-08 06:15:39</td>\n",
              "      <td>2016-02-08 12:15:39</td>\n",
              "      <td>39.10148</td>\n",
              "      <td>-84.52341</td>\n",
              "      <td>39.09841</td>\n",
              "      <td>-84.52241</td>\n",
              "      <td>0.219</td>\n",
              "      <td>At I-71/US-50/Exit 1 - Accident.</td>\n",
              "      <td>NaN</td>\n",
              "      <td>US-50 E</td>\n",
              "      <td>R</td>\n",
              "      <td>Cincinnati</td>\n",
              "      <td>Hamilton</td>\n",
              "      <td>OH</td>\n",
              "      <td>45202</td>\n",
              "      <td>US</td>\n",
              "      <td>US/Eastern</td>\n",
              "      <td>KLUK</td>\n",
              "      <td>2016-02-08 05:53:00</td>\n",
              "      <td>36.0</td>\n",
              "      <td>NaN</td>\n",
              "      <td>97.0</td>\n",
              "      <td>29.70</td>\n",
              "      <td>10.0</td>\n",
              "      <td>Calm</td>\n",
              "      <td>NaN</td>\n",
              "      <td>0.02</td>\n",
              "      <td>Overcast</td>\n",
              "      <td>False</td>\n",
              "      <td>False</td>\n",
              "      <td>False</td>\n",
              "      <td>False</td>\n",
              "      <td>True</td>\n",
              "      <td>False</td>\n",
              "      <td>False</td>\n",
              "      <td>False</td>\n",
              "      <td>False</td>\n",
              "      <td>False</td>\n",
              "      <td>False</td>\n",
              "      <td>False</td>\n",
              "      <td>False</td>\n",
              "      <td>Night</td>\n",
              "      <td>Night</td>\n",
              "      <td>Night</td>\n",
              "      <td>Day</td>\n",
              "    </tr>\n",
              "    <tr>\n",
              "      <th>4</th>\n",
              "      <td>A-2716604</td>\n",
              "      <td>2</td>\n",
              "      <td>2016-02-08 06:51:45</td>\n",
              "      <td>2016-02-08 12:51:45</td>\n",
              "      <td>41.06213</td>\n",
              "      <td>-81.53784</td>\n",
              "      <td>41.06217</td>\n",
              "      <td>-81.53547</td>\n",
              "      <td>0.123</td>\n",
              "      <td>At Dart Ave/Exit 21 - Accident.</td>\n",
              "      <td>NaN</td>\n",
              "      <td>I-77 N</td>\n",
              "      <td>R</td>\n",
              "      <td>Akron</td>\n",
              "      <td>Summit</td>\n",
              "      <td>OH</td>\n",
              "      <td>44311</td>\n",
              "      <td>US</td>\n",
              "      <td>US/Eastern</td>\n",
              "      <td>KAKR</td>\n",
              "      <td>2016-02-08 06:54:00</td>\n",
              "      <td>39.0</td>\n",
              "      <td>NaN</td>\n",
              "      <td>55.0</td>\n",
              "      <td>29.65</td>\n",
              "      <td>10.0</td>\n",
              "      <td>Calm</td>\n",
              "      <td>NaN</td>\n",
              "      <td>NaN</td>\n",
              "      <td>Overcast</td>\n",
              "      <td>False</td>\n",
              "      <td>False</td>\n",
              "      <td>False</td>\n",
              "      <td>False</td>\n",
              "      <td>False</td>\n",
              "      <td>False</td>\n",
              "      <td>False</td>\n",
              "      <td>False</td>\n",
              "      <td>False</td>\n",
              "      <td>False</td>\n",
              "      <td>False</td>\n",
              "      <td>False</td>\n",
              "      <td>False</td>\n",
              "      <td>Night</td>\n",
              "      <td>Night</td>\n",
              "      <td>Day</td>\n",
              "      <td>Day</td>\n",
              "    </tr>\n",
              "    <tr>\n",
              "      <th>...</th>\n",
              "      <td>...</td>\n",
              "      <td>...</td>\n",
              "      <td>...</td>\n",
              "      <td>...</td>\n",
              "      <td>...</td>\n",
              "      <td>...</td>\n",
              "      <td>...</td>\n",
              "      <td>...</td>\n",
              "      <td>...</td>\n",
              "      <td>...</td>\n",
              "      <td>...</td>\n",
              "      <td>...</td>\n",
              "      <td>...</td>\n",
              "      <td>...</td>\n",
              "      <td>...</td>\n",
              "      <td>...</td>\n",
              "      <td>...</td>\n",
              "      <td>...</td>\n",
              "      <td>...</td>\n",
              "      <td>...</td>\n",
              "      <td>...</td>\n",
              "      <td>...</td>\n",
              "      <td>...</td>\n",
              "      <td>...</td>\n",
              "      <td>...</td>\n",
              "      <td>...</td>\n",
              "      <td>...</td>\n",
              "      <td>...</td>\n",
              "      <td>...</td>\n",
              "      <td>...</td>\n",
              "      <td>...</td>\n",
              "      <td>...</td>\n",
              "      <td>...</td>\n",
              "      <td>...</td>\n",
              "      <td>...</td>\n",
              "      <td>...</td>\n",
              "      <td>...</td>\n",
              "      <td>...</td>\n",
              "      <td>...</td>\n",
              "      <td>...</td>\n",
              "      <td>...</td>\n",
              "      <td>...</td>\n",
              "      <td>...</td>\n",
              "      <td>...</td>\n",
              "      <td>...</td>\n",
              "      <td>...</td>\n",
              "      <td>...</td>\n",
              "    </tr>\n",
              "    <tr>\n",
              "      <th>1516059</th>\n",
              "      <td>A-4239402</td>\n",
              "      <td>2</td>\n",
              "      <td>2019-08-23 18:03:25</td>\n",
              "      <td>2019-08-23 18:32:01</td>\n",
              "      <td>34.00248</td>\n",
              "      <td>-117.37936</td>\n",
              "      <td>33.99888</td>\n",
              "      <td>-117.37094</td>\n",
              "      <td>0.543</td>\n",
              "      <td>At Market St - Accident.</td>\n",
              "      <td>NaN</td>\n",
              "      <td>Pomona Fwy E</td>\n",
              "      <td>R</td>\n",
              "      <td>Riverside</td>\n",
              "      <td>Riverside</td>\n",
              "      <td>CA</td>\n",
              "      <td>92501</td>\n",
              "      <td>US</td>\n",
              "      <td>US/Pacific</td>\n",
              "      <td>KRAL</td>\n",
              "      <td>2019-08-23 17:53:00</td>\n",
              "      <td>86.0</td>\n",
              "      <td>86.0</td>\n",
              "      <td>40.0</td>\n",
              "      <td>28.92</td>\n",
              "      <td>10.0</td>\n",
              "      <td>W</td>\n",
              "      <td>13.0</td>\n",
              "      <td>0.00</td>\n",
              "      <td>Fair</td>\n",
              "      <td>False</td>\n",
              "      <td>False</td>\n",
              "      <td>False</td>\n",
              "      <td>False</td>\n",
              "      <td>False</td>\n",
              "      <td>False</td>\n",
              "      <td>False</td>\n",
              "      <td>False</td>\n",
              "      <td>False</td>\n",
              "      <td>False</td>\n",
              "      <td>False</td>\n",
              "      <td>False</td>\n",
              "      <td>False</td>\n",
              "      <td>Day</td>\n",
              "      <td>Day</td>\n",
              "      <td>Day</td>\n",
              "      <td>Day</td>\n",
              "    </tr>\n",
              "    <tr>\n",
              "      <th>1516060</th>\n",
              "      <td>A-4239403</td>\n",
              "      <td>2</td>\n",
              "      <td>2019-08-23 19:11:30</td>\n",
              "      <td>2019-08-23 19:38:23</td>\n",
              "      <td>32.76696</td>\n",
              "      <td>-117.14806</td>\n",
              "      <td>32.76555</td>\n",
              "      <td>-117.15363</td>\n",
              "      <td>0.338</td>\n",
              "      <td>At Camino Del Rio/Mission Center Rd - Accident.</td>\n",
              "      <td>NaN</td>\n",
              "      <td>I-8 W</td>\n",
              "      <td>R</td>\n",
              "      <td>San Diego</td>\n",
              "      <td>San Diego</td>\n",
              "      <td>CA</td>\n",
              "      <td>92108</td>\n",
              "      <td>US</td>\n",
              "      <td>US/Pacific</td>\n",
              "      <td>KMYF</td>\n",
              "      <td>2019-08-23 18:53:00</td>\n",
              "      <td>70.0</td>\n",
              "      <td>70.0</td>\n",
              "      <td>73.0</td>\n",
              "      <td>29.39</td>\n",
              "      <td>10.0</td>\n",
              "      <td>SW</td>\n",
              "      <td>6.0</td>\n",
              "      <td>0.00</td>\n",
              "      <td>Fair</td>\n",
              "      <td>False</td>\n",
              "      <td>False</td>\n",
              "      <td>False</td>\n",
              "      <td>False</td>\n",
              "      <td>False</td>\n",
              "      <td>False</td>\n",
              "      <td>False</td>\n",
              "      <td>False</td>\n",
              "      <td>False</td>\n",
              "      <td>False</td>\n",
              "      <td>False</td>\n",
              "      <td>False</td>\n",
              "      <td>False</td>\n",
              "      <td>Day</td>\n",
              "      <td>Day</td>\n",
              "      <td>Day</td>\n",
              "      <td>Day</td>\n",
              "    </tr>\n",
              "    <tr>\n",
              "      <th>1516061</th>\n",
              "      <td>A-4239404</td>\n",
              "      <td>2</td>\n",
              "      <td>2019-08-23 19:00:21</td>\n",
              "      <td>2019-08-23 19:28:49</td>\n",
              "      <td>33.77545</td>\n",
              "      <td>-117.84779</td>\n",
              "      <td>33.77740</td>\n",
              "      <td>-117.85727</td>\n",
              "      <td>0.561</td>\n",
              "      <td>At Glassell St/Grand Ave - Accident. in the ri...</td>\n",
              "      <td>NaN</td>\n",
              "      <td>Garden Grove Fwy</td>\n",
              "      <td>R</td>\n",
              "      <td>Orange</td>\n",
              "      <td>Orange</td>\n",
              "      <td>CA</td>\n",
              "      <td>92866</td>\n",
              "      <td>US</td>\n",
              "      <td>US/Pacific</td>\n",
              "      <td>KSNA</td>\n",
              "      <td>2019-08-23 18:53:00</td>\n",
              "      <td>73.0</td>\n",
              "      <td>73.0</td>\n",
              "      <td>64.0</td>\n",
              "      <td>29.74</td>\n",
              "      <td>10.0</td>\n",
              "      <td>SSW</td>\n",
              "      <td>10.0</td>\n",
              "      <td>0.00</td>\n",
              "      <td>Partly Cloudy</td>\n",
              "      <td>False</td>\n",
              "      <td>False</td>\n",
              "      <td>False</td>\n",
              "      <td>False</td>\n",
              "      <td>True</td>\n",
              "      <td>False</td>\n",
              "      <td>False</td>\n",
              "      <td>False</td>\n",
              "      <td>False</td>\n",
              "      <td>False</td>\n",
              "      <td>False</td>\n",
              "      <td>False</td>\n",
              "      <td>False</td>\n",
              "      <td>Day</td>\n",
              "      <td>Day</td>\n",
              "      <td>Day</td>\n",
              "      <td>Day</td>\n",
              "    </tr>\n",
              "    <tr>\n",
              "      <th>1516062</th>\n",
              "      <td>A-4239405</td>\n",
              "      <td>2</td>\n",
              "      <td>2019-08-23 19:00:21</td>\n",
              "      <td>2019-08-23 19:29:42</td>\n",
              "      <td>33.99246</td>\n",
              "      <td>-118.40302</td>\n",
              "      <td>33.98311</td>\n",
              "      <td>-118.39565</td>\n",
              "      <td>0.772</td>\n",
              "      <td>At CA-90/Marina Fwy/Jefferson Blvd - Accident.</td>\n",
              "      <td>NaN</td>\n",
              "      <td>San Diego Fwy S</td>\n",
              "      <td>R</td>\n",
              "      <td>Culver City</td>\n",
              "      <td>Los Angeles</td>\n",
              "      <td>CA</td>\n",
              "      <td>90230</td>\n",
              "      <td>US</td>\n",
              "      <td>US/Pacific</td>\n",
              "      <td>KSMO</td>\n",
              "      <td>2019-08-23 18:51:00</td>\n",
              "      <td>71.0</td>\n",
              "      <td>71.0</td>\n",
              "      <td>81.0</td>\n",
              "      <td>29.62</td>\n",
              "      <td>10.0</td>\n",
              "      <td>SW</td>\n",
              "      <td>8.0</td>\n",
              "      <td>0.00</td>\n",
              "      <td>Fair</td>\n",
              "      <td>False</td>\n",
              "      <td>False</td>\n",
              "      <td>False</td>\n",
              "      <td>False</td>\n",
              "      <td>False</td>\n",
              "      <td>False</td>\n",
              "      <td>False</td>\n",
              "      <td>False</td>\n",
              "      <td>False</td>\n",
              "      <td>False</td>\n",
              "      <td>False</td>\n",
              "      <td>False</td>\n",
              "      <td>False</td>\n",
              "      <td>Day</td>\n",
              "      <td>Day</td>\n",
              "      <td>Day</td>\n",
              "      <td>Day</td>\n",
              "    </tr>\n",
              "    <tr>\n",
              "      <th>1516063</th>\n",
              "      <td>A-4239406</td>\n",
              "      <td>2</td>\n",
              "      <td>2019-08-23 18:52:06</td>\n",
              "      <td>2019-08-23 19:21:31</td>\n",
              "      <td>34.13393</td>\n",
              "      <td>-117.23092</td>\n",
              "      <td>34.13736</td>\n",
              "      <td>-117.23934</td>\n",
              "      <td>0.537</td>\n",
              "      <td>At Highland Ave/Arden Ave - Accident.</td>\n",
              "      <td>NaN</td>\n",
              "      <td>CA-210 W</td>\n",
              "      <td>R</td>\n",
              "      <td>Highland</td>\n",
              "      <td>San Bernardino</td>\n",
              "      <td>CA</td>\n",
              "      <td>92346</td>\n",
              "      <td>US</td>\n",
              "      <td>US/Pacific</td>\n",
              "      <td>KSBD</td>\n",
              "      <td>2019-08-23 20:50:00</td>\n",
              "      <td>79.0</td>\n",
              "      <td>79.0</td>\n",
              "      <td>47.0</td>\n",
              "      <td>28.63</td>\n",
              "      <td>7.0</td>\n",
              "      <td>SW</td>\n",
              "      <td>7.0</td>\n",
              "      <td>0.00</td>\n",
              "      <td>Fair</td>\n",
              "      <td>False</td>\n",
              "      <td>False</td>\n",
              "      <td>False</td>\n",
              "      <td>False</td>\n",
              "      <td>False</td>\n",
              "      <td>False</td>\n",
              "      <td>False</td>\n",
              "      <td>False</td>\n",
              "      <td>False</td>\n",
              "      <td>False</td>\n",
              "      <td>False</td>\n",
              "      <td>False</td>\n",
              "      <td>False</td>\n",
              "      <td>Day</td>\n",
              "      <td>Day</td>\n",
              "      <td>Day</td>\n",
              "      <td>Day</td>\n",
              "    </tr>\n",
              "  </tbody>\n",
              "</table>\n",
              "<p>1516064 rows × 47 columns</p>\n",
              "</div>"
            ],
            "text/plain": [
              "                ID  Severity  ... Nautical_Twilight Astronomical_Twilight\n",
              "0        A-2716600         3  ...             Night                 Night\n",
              "1        A-2716601         2  ...             Night                 Night\n",
              "2        A-2716602         2  ...             Night                   Day\n",
              "3        A-2716603         2  ...             Night                   Day\n",
              "4        A-2716604         2  ...               Day                   Day\n",
              "...            ...       ...  ...               ...                   ...\n",
              "1516059  A-4239402         2  ...               Day                   Day\n",
              "1516060  A-4239403         2  ...               Day                   Day\n",
              "1516061  A-4239404         2  ...               Day                   Day\n",
              "1516062  A-4239405         2  ...               Day                   Day\n",
              "1516063  A-4239406         2  ...               Day                   Day\n",
              "\n",
              "[1516064 rows x 47 columns]"
            ]
          },
          "metadata": {},
          "execution_count": 6
        }
      ]
    },
    {
      "cell_type": "code",
      "metadata": {
        "colab": {
          "base_uri": "https://localhost:8080/"
        },
        "id": "-xmtHwiyufbQ",
        "outputId": "3a8cf75a-f3b6-481b-c951-3e40a9d66d5f"
      },
      "source": [
        "# View the columns\n",
        "df.columns"
      ],
      "execution_count": 7,
      "outputs": [
        {
          "output_type": "execute_result",
          "data": {
            "text/plain": [
              "Index(['ID', 'Severity', 'Start_Time', 'End_Time', 'Start_Lat', 'Start_Lng',\n",
              "       'End_Lat', 'End_Lng', 'Distance(mi)', 'Description', 'Number', 'Street',\n",
              "       'Side', 'City', 'County', 'State', 'Zipcode', 'Country', 'Timezone',\n",
              "       'Airport_Code', 'Weather_Timestamp', 'Temperature(F)', 'Wind_Chill(F)',\n",
              "       'Humidity(%)', 'Pressure(in)', 'Visibility(mi)', 'Wind_Direction',\n",
              "       'Wind_Speed(mph)', 'Precipitation(in)', 'Weather_Condition', 'Amenity',\n",
              "       'Bump', 'Crossing', 'Give_Way', 'Junction', 'No_Exit', 'Railway',\n",
              "       'Roundabout', 'Station', 'Stop', 'Traffic_Calming', 'Traffic_Signal',\n",
              "       'Turning_Loop', 'Sunrise_Sunset', 'Civil_Twilight', 'Nautical_Twilight',\n",
              "       'Astronomical_Twilight'],\n",
              "      dtype='object')"
            ]
          },
          "metadata": {},
          "execution_count": 7
        }
      ]
    },
    {
      "cell_type": "code",
      "metadata": {
        "colab": {
          "base_uri": "https://localhost:8080/",
          "height": 317
        },
        "id": "QWQoSe9KusJc",
        "outputId": "c86fd150-178c-494b-9883-5e47e2f9a2af"
      },
      "source": [
        "# Look at the stats of the dataset\n",
        "df.describe()"
      ],
      "execution_count": 8,
      "outputs": [
        {
          "output_type": "execute_result",
          "data": {
            "text/html": [
              "<div>\n",
              "<style scoped>\n",
              "    .dataframe tbody tr th:only-of-type {\n",
              "        vertical-align: middle;\n",
              "    }\n",
              "\n",
              "    .dataframe tbody tr th {\n",
              "        vertical-align: top;\n",
              "    }\n",
              "\n",
              "    .dataframe thead th {\n",
              "        text-align: right;\n",
              "    }\n",
              "</style>\n",
              "<table border=\"1\" class=\"dataframe\">\n",
              "  <thead>\n",
              "    <tr style=\"text-align: right;\">\n",
              "      <th></th>\n",
              "      <th>Severity</th>\n",
              "      <th>Start_Lat</th>\n",
              "      <th>Start_Lng</th>\n",
              "      <th>End_Lat</th>\n",
              "      <th>End_Lng</th>\n",
              "      <th>Distance(mi)</th>\n",
              "      <th>Number</th>\n",
              "      <th>Temperature(F)</th>\n",
              "      <th>Wind_Chill(F)</th>\n",
              "      <th>Humidity(%)</th>\n",
              "      <th>Pressure(in)</th>\n",
              "      <th>Visibility(mi)</th>\n",
              "      <th>Wind_Speed(mph)</th>\n",
              "      <th>Precipitation(in)</th>\n",
              "    </tr>\n",
              "  </thead>\n",
              "  <tbody>\n",
              "    <tr>\n",
              "      <th>count</th>\n",
              "      <td>1.516064e+06</td>\n",
              "      <td>1.516064e+06</td>\n",
              "      <td>1.516064e+06</td>\n",
              "      <td>1.516064e+06</td>\n",
              "      <td>1.516064e+06</td>\n",
              "      <td>1.516064e+06</td>\n",
              "      <td>4.699690e+05</td>\n",
              "      <td>1.473031e+06</td>\n",
              "      <td>1.066748e+06</td>\n",
              "      <td>1.470555e+06</td>\n",
              "      <td>1.479790e+06</td>\n",
              "      <td>1.471853e+06</td>\n",
              "      <td>1.387202e+06</td>\n",
              "      <td>1.005515e+06</td>\n",
              "    </tr>\n",
              "    <tr>\n",
              "      <th>mean</th>\n",
              "      <td>2.238630e+00</td>\n",
              "      <td>3.690056e+01</td>\n",
              "      <td>-9.859919e+01</td>\n",
              "      <td>3.690061e+01</td>\n",
              "      <td>-9.859901e+01</td>\n",
              "      <td>5.872617e-01</td>\n",
              "      <td>8.907533e+03</td>\n",
              "      <td>5.958460e+01</td>\n",
              "      <td>5.510976e+01</td>\n",
              "      <td>6.465960e+01</td>\n",
              "      <td>2.955495e+01</td>\n",
              "      <td>9.131755e+00</td>\n",
              "      <td>7.630812e+00</td>\n",
              "      <td>8.477855e-03</td>\n",
              "    </tr>\n",
              "    <tr>\n",
              "      <th>std</th>\n",
              "      <td>6.081481e-01</td>\n",
              "      <td>5.165653e+00</td>\n",
              "      <td>1.849602e+01</td>\n",
              "      <td>5.165629e+00</td>\n",
              "      <td>1.849590e+01</td>\n",
              "      <td>1.632659e+00</td>\n",
              "      <td>2.242190e+04</td>\n",
              "      <td>1.827316e+01</td>\n",
              "      <td>2.112735e+01</td>\n",
              "      <td>2.325986e+01</td>\n",
              "      <td>1.016756e+00</td>\n",
              "      <td>2.889112e+00</td>\n",
              "      <td>5.637364e+00</td>\n",
              "      <td>1.293168e-01</td>\n",
              "    </tr>\n",
              "    <tr>\n",
              "      <th>min</th>\n",
              "      <td>1.000000e+00</td>\n",
              "      <td>2.457022e+01</td>\n",
              "      <td>-1.244976e+02</td>\n",
              "      <td>2.457011e+01</td>\n",
              "      <td>-1.244978e+02</td>\n",
              "      <td>0.000000e+00</td>\n",
              "      <td>0.000000e+00</td>\n",
              "      <td>-8.900000e+01</td>\n",
              "      <td>-8.900000e+01</td>\n",
              "      <td>1.000000e+00</td>\n",
              "      <td>0.000000e+00</td>\n",
              "      <td>0.000000e+00</td>\n",
              "      <td>0.000000e+00</td>\n",
              "      <td>0.000000e+00</td>\n",
              "    </tr>\n",
              "    <tr>\n",
              "      <th>25%</th>\n",
              "      <td>2.000000e+00</td>\n",
              "      <td>3.385422e+01</td>\n",
              "      <td>-1.182076e+02</td>\n",
              "      <td>3.385420e+01</td>\n",
              "      <td>-1.182077e+02</td>\n",
              "      <td>0.000000e+00</td>\n",
              "      <td>1.212000e+03</td>\n",
              "      <td>4.700000e+01</td>\n",
              "      <td>4.080000e+01</td>\n",
              "      <td>4.800000e+01</td>\n",
              "      <td>2.944000e+01</td>\n",
              "      <td>1.000000e+01</td>\n",
              "      <td>4.600000e+00</td>\n",
              "      <td>0.000000e+00</td>\n",
              "    </tr>\n",
              "    <tr>\n",
              "      <th>50%</th>\n",
              "      <td>2.000000e+00</td>\n",
              "      <td>3.735113e+01</td>\n",
              "      <td>-9.438100e+01</td>\n",
              "      <td>3.735134e+01</td>\n",
              "      <td>-9.437987e+01</td>\n",
              "      <td>1.780000e-01</td>\n",
              "      <td>4.000000e+03</td>\n",
              "      <td>6.100000e+01</td>\n",
              "      <td>5.700000e+01</td>\n",
              "      <td>6.800000e+01</td>\n",
              "      <td>2.988000e+01</td>\n",
              "      <td>1.000000e+01</td>\n",
              "      <td>7.000000e+00</td>\n",
              "      <td>0.000000e+00</td>\n",
              "    </tr>\n",
              "    <tr>\n",
              "      <th>75%</th>\n",
              "      <td>2.000000e+00</td>\n",
              "      <td>4.072593e+01</td>\n",
              "      <td>-8.087469e+01</td>\n",
              "      <td>4.072593e+01</td>\n",
              "      <td>-8.087449e+01</td>\n",
              "      <td>5.940000e-01</td>\n",
              "      <td>1.010000e+04</td>\n",
              "      <td>7.300000e+01</td>\n",
              "      <td>7.100000e+01</td>\n",
              "      <td>8.400000e+01</td>\n",
              "      <td>3.004000e+01</td>\n",
              "      <td>1.000000e+01</td>\n",
              "      <td>1.040000e+01</td>\n",
              "      <td>0.000000e+00</td>\n",
              "    </tr>\n",
              "    <tr>\n",
              "      <th>max</th>\n",
              "      <td>4.000000e+00</td>\n",
              "      <td>4.900058e+01</td>\n",
              "      <td>-6.711317e+01</td>\n",
              "      <td>4.907500e+01</td>\n",
              "      <td>-6.710924e+01</td>\n",
              "      <td>1.551860e+02</td>\n",
              "      <td>9.999997e+06</td>\n",
              "      <td>1.706000e+02</td>\n",
              "      <td>1.130000e+02</td>\n",
              "      <td>1.000000e+02</td>\n",
              "      <td>5.804000e+01</td>\n",
              "      <td>1.400000e+02</td>\n",
              "      <td>9.840000e+02</td>\n",
              "      <td>2.400000e+01</td>\n",
              "    </tr>\n",
              "  </tbody>\n",
              "</table>\n",
              "</div>"
            ],
            "text/plain": [
              "           Severity     Start_Lat  ...  Wind_Speed(mph)  Precipitation(in)\n",
              "count  1.516064e+06  1.516064e+06  ...     1.387202e+06       1.005515e+06\n",
              "mean   2.238630e+00  3.690056e+01  ...     7.630812e+00       8.477855e-03\n",
              "std    6.081481e-01  5.165653e+00  ...     5.637364e+00       1.293168e-01\n",
              "min    1.000000e+00  2.457022e+01  ...     0.000000e+00       0.000000e+00\n",
              "25%    2.000000e+00  3.385422e+01  ...     4.600000e+00       0.000000e+00\n",
              "50%    2.000000e+00  3.735113e+01  ...     7.000000e+00       0.000000e+00\n",
              "75%    2.000000e+00  4.072593e+01  ...     1.040000e+01       0.000000e+00\n",
              "max    4.000000e+00  4.900058e+01  ...     9.840000e+02       2.400000e+01\n",
              "\n",
              "[8 rows x 14 columns]"
            ]
          },
          "metadata": {},
          "execution_count": 8
        }
      ]
    },
    {
      "cell_type": "code",
      "metadata": {
        "colab": {
          "base_uri": "https://localhost:8080/"
        },
        "id": "-oCS-Uc3vNWE",
        "outputId": "d9442f43-b9e5-4c37-c68e-07d20a652a8d"
      },
      "source": [
        "df.info()"
      ],
      "execution_count": 9,
      "outputs": [
        {
          "output_type": "stream",
          "name": "stdout",
          "text": [
            "<class 'pandas.core.frame.DataFrame'>\n",
            "RangeIndex: 1516064 entries, 0 to 1516063\n",
            "Data columns (total 47 columns):\n",
            " #   Column                 Non-Null Count    Dtype  \n",
            "---  ------                 --------------    -----  \n",
            " 0   ID                     1516064 non-null  object \n",
            " 1   Severity               1516064 non-null  int64  \n",
            " 2   Start_Time             1516064 non-null  object \n",
            " 3   End_Time               1516064 non-null  object \n",
            " 4   Start_Lat              1516064 non-null  float64\n",
            " 5   Start_Lng              1516064 non-null  float64\n",
            " 6   End_Lat                1516064 non-null  float64\n",
            " 7   End_Lng                1516064 non-null  float64\n",
            " 8   Distance(mi)           1516064 non-null  float64\n",
            " 9   Description            1516064 non-null  object \n",
            " 10  Number                 469969 non-null   float64\n",
            " 11  Street                 1516064 non-null  object \n",
            " 12  Side                   1516064 non-null  object \n",
            " 13  City                   1515981 non-null  object \n",
            " 14  County                 1516064 non-null  object \n",
            " 15  State                  1516064 non-null  object \n",
            " 16  Zipcode                1515129 non-null  object \n",
            " 17  Country                1516064 non-null  object \n",
            " 18  Timezone               1513762 non-null  object \n",
            " 19  Airport_Code           1511816 non-null  object \n",
            " 20  Weather_Timestamp      1485800 non-null  object \n",
            " 21  Temperature(F)         1473031 non-null  float64\n",
            " 22  Wind_Chill(F)          1066748 non-null  float64\n",
            " 23  Humidity(%)            1470555 non-null  float64\n",
            " 24  Pressure(in)           1479790 non-null  float64\n",
            " 25  Visibility(mi)         1471853 non-null  float64\n",
            " 26  Wind_Direction         1474206 non-null  object \n",
            " 27  Wind_Speed(mph)        1387202 non-null  float64\n",
            " 28  Precipitation(in)      1005515 non-null  float64\n",
            " 29  Weather_Condition      1472057 non-null  object \n",
            " 30  Amenity                1516064 non-null  bool   \n",
            " 31  Bump                   1516064 non-null  bool   \n",
            " 32  Crossing               1516064 non-null  bool   \n",
            " 33  Give_Way               1516064 non-null  bool   \n",
            " 34  Junction               1516064 non-null  bool   \n",
            " 35  No_Exit                1516064 non-null  bool   \n",
            " 36  Railway                1516064 non-null  bool   \n",
            " 37  Roundabout             1516064 non-null  bool   \n",
            " 38  Station                1516064 non-null  bool   \n",
            " 39  Stop                   1516064 non-null  bool   \n",
            " 40  Traffic_Calming        1516064 non-null  bool   \n",
            " 41  Traffic_Signal         1516064 non-null  bool   \n",
            " 42  Turning_Loop           1516064 non-null  bool   \n",
            " 43  Sunrise_Sunset         1515981 non-null  object \n",
            " 44  Civil_Twilight         1515981 non-null  object \n",
            " 45  Nautical_Twilight      1515981 non-null  object \n",
            " 46  Astronomical_Twilight  1515981 non-null  object \n",
            "dtypes: bool(13), float64(13), int64(1), object(20)\n",
            "memory usage: 412.1+ MB\n"
          ]
        }
      ]
    },
    {
      "cell_type": "code",
      "metadata": {
        "colab": {
          "base_uri": "https://localhost:8080/"
        },
        "id": "l2aEKEdzwWDa",
        "outputId": "a9441ee9-3d1c-4edf-ce11-a46c68cb66c4"
      },
      "source": [
        "# numeric data types\n",
        "numerics = ['int16', 'int32', 'int64', 'float16', 'float32', 'float64']\n",
        "\n",
        "# how many numeric columns do we have \n",
        "numeric_df = df.select_dtypes(include=numerics)\n",
        "len(numeric_df.columns)"
      ],
      "execution_count": 10,
      "outputs": [
        {
          "output_type": "execute_result",
          "data": {
            "text/plain": [
              "14"
            ]
          },
          "metadata": {},
          "execution_count": 10
        }
      ]
    },
    {
      "cell_type": "code",
      "metadata": {
        "colab": {
          "base_uri": "https://localhost:8080/"
        },
        "id": "i7QcOfx8w62C",
        "outputId": "8b9b2e6c-683b-4b68-d896-b745c81d14f8"
      },
      "source": [
        "# missing values\n",
        "df.isna().sum()"
      ],
      "execution_count": 11,
      "outputs": [
        {
          "output_type": "execute_result",
          "data": {
            "text/plain": [
              "ID                             0\n",
              "Severity                       0\n",
              "Start_Time                     0\n",
              "End_Time                       0\n",
              "Start_Lat                      0\n",
              "Start_Lng                      0\n",
              "End_Lat                        0\n",
              "End_Lng                        0\n",
              "Distance(mi)                   0\n",
              "Description                    0\n",
              "Number                   1046095\n",
              "Street                         0\n",
              "Side                           0\n",
              "City                          83\n",
              "County                         0\n",
              "State                          0\n",
              "Zipcode                      935\n",
              "Country                        0\n",
              "Timezone                    2302\n",
              "Airport_Code                4248\n",
              "Weather_Timestamp          30264\n",
              "Temperature(F)             43033\n",
              "Wind_Chill(F)             449316\n",
              "Humidity(%)                45509\n",
              "Pressure(in)               36274\n",
              "Visibility(mi)             44211\n",
              "Wind_Direction             41858\n",
              "Wind_Speed(mph)           128862\n",
              "Precipitation(in)         510549\n",
              "Weather_Condition          44007\n",
              "Amenity                        0\n",
              "Bump                           0\n",
              "Crossing                       0\n",
              "Give_Way                       0\n",
              "Junction                       0\n",
              "No_Exit                        0\n",
              "Railway                        0\n",
              "Roundabout                     0\n",
              "Station                        0\n",
              "Stop                           0\n",
              "Traffic_Calming                0\n",
              "Traffic_Signal                 0\n",
              "Turning_Loop                   0\n",
              "Sunrise_Sunset                83\n",
              "Civil_Twilight                83\n",
              "Nautical_Twilight             83\n",
              "Astronomical_Twilight         83\n",
              "dtype: int64"
            ]
          },
          "metadata": {},
          "execution_count": 11
        }
      ]
    },
    {
      "cell_type": "code",
      "metadata": {
        "colab": {
          "base_uri": "https://localhost:8080/"
        },
        "id": "RHlNs5d8xuih",
        "outputId": "8f84ad4c-8637-4c3f-b470-14b1e30a4cbf"
      },
      "source": [
        "# find percentage of missing values per column\n",
        "missing_percentages = df.isna().sum().sort_values(ascending=False) / len(df)\n",
        "missing_percentages"
      ],
      "execution_count": 12,
      "outputs": [
        {
          "output_type": "execute_result",
          "data": {
            "text/plain": [
              "Number                   0.690007\n",
              "Precipitation(in)        0.336760\n",
              "Wind_Chill(F)            0.296370\n",
              "Wind_Speed(mph)          0.084998\n",
              "Humidity(%)              0.030018\n",
              "Visibility(mi)           0.029162\n",
              "Weather_Condition        0.029027\n",
              "Temperature(F)           0.028385\n",
              "Wind_Direction           0.027610\n",
              "Pressure(in)             0.023926\n",
              "Weather_Timestamp        0.019962\n",
              "Airport_Code             0.002802\n",
              "Timezone                 0.001518\n",
              "Zipcode                  0.000617\n",
              "City                     0.000055\n",
              "Nautical_Twilight        0.000055\n",
              "Astronomical_Twilight    0.000055\n",
              "Civil_Twilight           0.000055\n",
              "Sunrise_Sunset           0.000055\n",
              "Amenity                  0.000000\n",
              "Bump                     0.000000\n",
              "Severity                 0.000000\n",
              "Start_Time               0.000000\n",
              "End_Time                 0.000000\n",
              "Start_Lat                0.000000\n",
              "Start_Lng                0.000000\n",
              "End_Lat                  0.000000\n",
              "End_Lng                  0.000000\n",
              "Distance(mi)             0.000000\n",
              "Description              0.000000\n",
              "Street                   0.000000\n",
              "Side                     0.000000\n",
              "County                   0.000000\n",
              "State                    0.000000\n",
              "Turning_Loop             0.000000\n",
              "Country                  0.000000\n",
              "Traffic_Signal           0.000000\n",
              "Traffic_Calming          0.000000\n",
              "Stop                     0.000000\n",
              "Station                  0.000000\n",
              "Roundabout               0.000000\n",
              "Railway                  0.000000\n",
              "No_Exit                  0.000000\n",
              "Junction                 0.000000\n",
              "Give_Way                 0.000000\n",
              "Crossing                 0.000000\n",
              "ID                       0.000000\n",
              "dtype: float64"
            ]
          },
          "metadata": {},
          "execution_count": 12
        }
      ]
    },
    {
      "cell_type": "code",
      "metadata": {
        "colab": {
          "base_uri": "https://localhost:8080/",
          "height": 282
        },
        "id": "Bz3kuDC4yYSV",
        "outputId": "426ed63e-1ee5-4ce5-b82d-eb3393b33b33"
      },
      "source": [
        "# plot the missing percentages\n",
        "missing_percentages[missing_percentages != 0].plot(kind='barh')  # filter out the zeros"
      ],
      "execution_count": 13,
      "outputs": [
        {
          "output_type": "execute_result",
          "data": {
            "text/plain": [
              "<matplotlib.axes._subplots.AxesSubplot at 0x7f67a3f4ab50>"
            ]
          },
          "metadata": {},
          "execution_count": 13
        },
        {
          "output_type": "display_data",
          "data": {
            "image/png": "[encoded data removed]",
            "text/plain": [
              "<Figure size 432x288 with 1 Axes>"
            ]
          },
          "metadata": {
            "needs_background": "light"
          }
        }
      ]
    },
    {
      "cell_type": "code",
      "metadata": {
        "colab": {
          "base_uri": "https://localhost:8080/"
        },
        "id": "h7f9Gzlsy5hx",
        "outputId": "de3179eb-4540-4044-8d26-b53eb6e01956"
      },
      "source": [
        "# take a look at the columns again\n",
        "df.columns"
      ],
      "execution_count": 14,
      "outputs": [
        {
          "output_type": "execute_result",
          "data": {
            "text/plain": [
              "Index(['ID', 'Severity', 'Start_Time', 'End_Time', 'Start_Lat', 'Start_Lng',\n",
              "       'End_Lat', 'End_Lng', 'Distance(mi)', 'Description', 'Number', 'Street',\n",
              "       'Side', 'City', 'County', 'State', 'Zipcode', 'Country', 'Timezone',\n",
              "       'Airport_Code', 'Weather_Timestamp', 'Temperature(F)', 'Wind_Chill(F)',\n",
              "       'Humidity(%)', 'Pressure(in)', 'Visibility(mi)', 'Wind_Direction',\n",
              "       'Wind_Speed(mph)', 'Precipitation(in)', 'Weather_Condition', 'Amenity',\n",
              "       'Bump', 'Crossing', 'Give_Way', 'Junction', 'No_Exit', 'Railway',\n",
              "       'Roundabout', 'Station', 'Stop', 'Traffic_Calming', 'Traffic_Signal',\n",
              "       'Turning_Loop', 'Sunrise_Sunset', 'Civil_Twilight', 'Nautical_Twilight',\n",
              "       'Astronomical_Twilight'],\n",
              "      dtype='object')"
            ]
          },
          "metadata": {},
          "execution_count": 14
        }
      ]
    },
    {
      "cell_type": "markdown",
      "metadata": {
        "id": "gyw6yI0xDJDO"
      },
      "source": [
        "## Analysing certain columns"
      ]
    },
    {
      "cell_type": "markdown",
      "metadata": {
        "id": "vZoC0uqcgxuK"
      },
      "source": [
        "### Analysing City"
      ]
    },
    {
      "cell_type": "code",
      "metadata": {
        "colab": {
          "base_uri": "https://localhost:8080/"
        },
        "id": "tupXzX2IDMok",
        "outputId": "617333e9-e1c4-483f-8500-124509eb8060"
      },
      "source": [
        "# take a look at the unique cities\n",
        "df.City.unique()"
      ],
      "execution_count": 15,
      "outputs": [
        {
          "output_type": "execute_result",
          "data": {
            "text/plain": [
              "array(['Dublin', 'Dayton', 'Cincinnati', ..., 'Succasunna', 'Valleyford',\n",
              "       'American Fork-Pleasant Grove'], dtype=object)"
            ]
          },
          "metadata": {},
          "execution_count": 15
        }
      ]
    },
    {
      "cell_type": "code",
      "metadata": {
        "colab": {
          "base_uri": "https://localhost:8080/"
        },
        "id": "O7ldmToiD37l",
        "outputId": "0f00addf-bc05-4592-f18a-310bee1fe29d"
      },
      "source": [
        "# Number of accidents per city\n",
        "cities_by_accident = df.City.value_counts()\n",
        "cities_by_accident"
      ],
      "execution_count": 16,
      "outputs": [
        {
          "output_type": "execute_result",
          "data": {
            "text/plain": [
              "Los Angeles            39984\n",
              "Miami                  36233\n",
              "Charlotte              22203\n",
              "Houston                20843\n",
              "Dallas                 19497\n",
              "                       ...  \n",
              "Wentworths Location        1\n",
              "Needville                  1\n",
              "Surgoinsville              1\n",
              "Stryker                    1\n",
              "Tatum                      1\n",
              "Name: City, Length: 10657, dtype: int64"
            ]
          },
          "metadata": {},
          "execution_count": 16
        }
      ]
    },
    {
      "cell_type": "code",
      "metadata": {
        "colab": {
          "base_uri": "https://localhost:8080/",
          "height": 282
        },
        "id": "_iVGBOmYEVpf",
        "outputId": "732273dd-d230-4a9a-e187-0db898a57d52"
      },
      "source": [
        "# Visualise the first 20 cities in a horizantal bar graph\n",
        "cities_by_accident[:20].plot(kind='barh')"
      ],
      "execution_count": 18,
      "outputs": [
        {
          "output_type": "execute_result",
          "data": {
            "text/plain": [
              "<matplotlib.axes._subplots.AxesSubplot at 0x7f6788763ad0>"
            ]
          },
          "metadata": {},
          "execution_count": 18
        },
        {
          "output_type": "display_data",
          "data": {
            "image/png": "[encoded data removed]",
            "text/plain": [
              "<Figure size 432x288 with 1 Axes>"
            ]
          },
          "metadata": {
            "needs_background": "light"
          }
        }
      ]
    },
    {
      "cell_type": "code",
      "metadata": {
        "colab": {
          "base_uri": "https://localhost:8080/",
          "height": 300
        },
        "id": "PZY9pUtodhjt",
        "outputId": "705d4c18-fcaf-4039-a8b3-1c13cf406ff0"
      },
      "source": [
        "# what does the distribution look like amongst cities\n",
        "import seaborn as sns\n",
        "sns.set_style(\"darkgrid\")\n",
        "sns.histplot(cities_by_accident, log_scale=True)"
      ],
      "execution_count": 21,
      "outputs": [
        {
          "output_type": "execute_result",
          "data": {
            "text/plain": [
              "<matplotlib.axes._subplots.AxesSubplot at 0x7f678cb55950>"
            ]
          },
          "metadata": {},
          "execution_count": 21
        },
        {
          "output_type": "display_data",
          "data": {
            "image/png": "[encoded data removed]",
            "text/plain": [
              "<Figure size 432x288 with 1 Axes>"
            ]
          },
          "metadata": {}
        }
      ]
    },
    {
      "cell_type": "code",
      "metadata": {
        "id": "AZshJxcxepu5"
      },
      "source": [
        "# high and low accident cities\n",
        "\n",
        "high_accident_cities = cities_by_accident[cities_by_accident >= 1000]\n",
        "low_accident_cities = cities_by_accident[cities_by_accident < 1000]"
      ],
      "execution_count": 22,
      "outputs": []
    },
    {
      "cell_type": "code",
      "metadata": {
        "colab": {
          "base_uri": "https://localhost:8080/",
          "height": 386
        },
        "id": "6TP3wtKpe5ku",
        "outputId": "c2bac571-56eb-49a9-9e66-8ac65ef80d80"
      },
      "source": [
        "# display high accident cities\n",
        "sns.displot(high_accident_cities)"
      ],
      "execution_count": 26,
      "outputs": [
        {
          "output_type": "execute_result",
          "data": {
            "text/plain": [
              "<seaborn.axisgrid.FacetGrid at 0x7f678d0eff90>"
            ]
          },
          "metadata": {},
          "execution_count": 26
        },
        {
          "output_type": "display_data",
          "data": {
            "image/png": "[encoded data removed]",
            "text/plain": [
              "<Figure size 360x360 with 1 Axes>"
            ]
          },
          "metadata": {}
        }
      ]
    },
    {
      "cell_type": "code",
      "metadata": {
        "colab": {
          "base_uri": "https://localhost:8080/",
          "height": 386
        },
        "id": "hrydkX49fIqj",
        "outputId": "dcb31f31-5171-484c-9b0f-d369ccf076a9"
      },
      "source": [
        "# display low accident cities\n",
        "sns.displot(low_accident_cities)"
      ],
      "execution_count": 27,
      "outputs": [
        {
          "output_type": "execute_result",
          "data": {
            "text/plain": [
              "<seaborn.axisgrid.FacetGrid at 0x7f678d0f4c90>"
            ]
          },
          "metadata": {},
          "execution_count": 27
        },
        {
          "output_type": "display_data",
          "data": {
            "image/png": "[encoded data removed]",
            "text/plain": [
              "<Figure size 360x360 with 1 Axes>"
            ]
          },
          "metadata": {}
        }
      ]
    },
    {
      "cell_type": "code",
      "metadata": {
        "colab": {
          "base_uri": "https://localhost:8080/"
        },
        "id": "t-jXab8uf0fI",
        "outputId": "e53442c6-7f4f-4e48-ce92-6c2819261255"
      },
      "source": [
        "# all the cities that have only 1 accident\n",
        "cities_by_accident[cities_by_accident == 1]"
      ],
      "execution_count": 28,
      "outputs": [
        {
          "output_type": "execute_result",
          "data": {
            "text/plain": [
              "Randolph Center        1\n",
              "South Bound Brook      1\n",
              "Burkburnett            1\n",
              "Elm Mott               1\n",
              "Alcoa                  1\n",
              "                      ..\n",
              "Wentworths Location    1\n",
              "Needville              1\n",
              "Surgoinsville          1\n",
              "Stryker                1\n",
              "Tatum                  1\n",
              "Name: City, Length: 1167, dtype: int64"
            ]
          },
          "metadata": {},
          "execution_count": 28
        }
      ]
    },
    {
      "cell_type": "markdown",
      "metadata": {
        "id": "aHxeWshsgXeP"
      },
      "source": [
        "Over 1000 cities have reported only 1 accident"
      ]
    },
    {
      "cell_type": "markdown",
      "metadata": {
        "id": "kJunEhnQgngV"
      },
      "source": [
        "### Analysing Start Time"
      ]
    },
    {
      "cell_type": "code",
      "metadata": {
        "colab": {
          "base_uri": "https://localhost:8080/"
        },
        "id": "HUR8MvlZg4HK",
        "outputId": "71ec7726-ab03-46f2-bcab-305ff79ba788"
      },
      "source": [
        "df.Start_Time"
      ],
      "execution_count": 30,
      "outputs": [
        {
          "output_type": "execute_result",
          "data": {
            "text/plain": [
              "0          2016-02-08 00:37:08\n",
              "1          2016-02-08 05:56:20\n",
              "2          2016-02-08 06:15:39\n",
              "3          2016-02-08 06:15:39\n",
              "4          2016-02-08 06:51:45\n",
              "                  ...         \n",
              "1516059    2019-08-23 18:03:25\n",
              "1516060    2019-08-23 19:11:30\n",
              "1516061    2019-08-23 19:00:21\n",
              "1516062    2019-08-23 19:00:21\n",
              "1516063    2019-08-23 18:52:06\n",
              "Name: Start_Time, Length: 1516064, dtype: object"
            ]
          },
          "metadata": {},
          "execution_count": 30
        }
      ]
    },
    {
      "cell_type": "code",
      "metadata": {
        "id": "cAXL3Rg6hOgR"
      },
      "source": [
        "# convert into datetime timestamp\n",
        "df.Start_Time = pd.to_datetime(df.Start_Time)"
      ],
      "execution_count": 31,
      "outputs": []
    },
    {
      "cell_type": "code",
      "metadata": {
        "colab": {
          "base_uri": "https://localhost:8080/"
        },
        "id": "Eyq2vS3OhQb-",
        "outputId": "9bea1ad1-a2ea-4cc2-c6d6-d5ab6f5b0027"
      },
      "source": [
        "df.Start_Time"
      ],
      "execution_count": 32,
      "outputs": [
        {
          "output_type": "execute_result",
          "data": {
            "text/plain": [
              "0         2016-02-08 00:37:08\n",
              "1         2016-02-08 05:56:20\n",
              "2         2016-02-08 06:15:39\n",
              "3         2016-02-08 06:15:39\n",
              "4         2016-02-08 06:51:45\n",
              "                  ...        \n",
              "1516059   2019-08-23 18:03:25\n",
              "1516060   2019-08-23 19:11:30\n",
              "1516061   2019-08-23 19:00:21\n",
              "1516062   2019-08-23 19:00:21\n",
              "1516063   2019-08-23 18:52:06\n",
              "Name: Start_Time, Length: 1516064, dtype: datetime64[ns]"
            ]
          },
          "metadata": {},
          "execution_count": 32
        }
      ]
    },
    {
      "cell_type": "code",
      "metadata": {
        "colab": {
          "base_uri": "https://localhost:8080/",
          "height": 351
        },
        "id": "ME0-hAt7hpmN",
        "outputId": "f34156e3-1b2f-404c-dcbc-3a36e17a2b3c"
      },
      "source": [
        "# see the hours that accidents occur\n",
        "sns.distplot(df.Start_Time.dt.hour, bins=24, kde=False, norm_hist=True)"
      ],
      "execution_count": 33,
      "outputs": [
        {
          "output_type": "stream",
          "name": "stderr",
          "text": [
            "/usr/local/lib/python3.7/dist-packages/seaborn/distributions.py:2619: FutureWarning: `distplot` is a deprecated function and will be removed in a future version. Please adapt your code to use either `displot` (a figure-level function with similar flexibility) or `histplot` (an axes-level function for histograms).\n",
            "  warnings.warn(msg, FutureWarning)\n"
          ]
        },
        {
          "output_type": "execute_result",
          "data": {
            "text/plain": [
              "<matplotlib.axes._subplots.AxesSubplot at 0x7f677a3f8790>"
            ]
          },
          "metadata": {},
          "execution_count": 33
        },
        {
          "output_type": "display_data",
          "data": {
            "image/png": "[encoded data removed]",
            "text/plain": [
              "<Figure size 432x288 with 1 Axes>"
            ]
          },
          "metadata": {}
        }
      ]
    },
    {
      "cell_type": "markdown",
      "metadata": {
        "id": "CQaa8_ZmiHqt"
      },
      "source": [
        "- A high percentage of accidents occur between 6 am to 10 am \n",
        "- Next higest percentage is 3 pm to 6 pm."
      ]
    },
    {
      "cell_type": "code",
      "metadata": {
        "colab": {
          "base_uri": "https://localhost:8080/",
          "height": 351
        },
        "id": "Br91Xrc4iSvo",
        "outputId": "67196ef5-60fd-450f-9653-cabb01d389f6"
      },
      "source": [
        "# which days of the week have the most accidents\n",
        "sns.distplot(df.Start_Time.dt.dayofweek, bins=7, kde=False, norm_hist=True)"
      ],
      "execution_count": 34,
      "outputs": [
        {
          "output_type": "stream",
          "name": "stderr",
          "text": [
            "/usr/local/lib/python3.7/dist-packages/seaborn/distributions.py:2619: FutureWarning: `distplot` is a deprecated function and will be removed in a future version. Please adapt your code to use either `displot` (a figure-level function with similar flexibility) or `histplot` (an axes-level function for histograms).\n",
            "  warnings.warn(msg, FutureWarning)\n"
          ]
        },
        {
          "output_type": "execute_result",
          "data": {
            "text/plain": [
              "<matplotlib.axes._subplots.AxesSubplot at 0x7f6779a71a10>"
            ]
          },
          "metadata": {},
          "execution_count": 34
        },
        {
          "output_type": "display_data",
          "data": {
            "image/png": "[encoded data removed]",
            "text/plain": [
              "<Figure size 432x288 with 1 Axes>"
            ]
          },
          "metadata": {}
        }
      ]
    },
    {
      "cell_type": "code",
      "metadata": {
        "colab": {
          "base_uri": "https://localhost:8080/",
          "height": 351
        },
        "id": "UV3AXnQ2i0cy",
        "outputId": "89799e4b-a761-43ee-8a93-2246a23fc0f7"
      },
      "source": [
        "# Is the distribution of accidents by hour the same on weekends as on weekdays\n",
        "sundays_start_time = df.Start_Time[df.Start_Time.dt.dayofweek == 6]\n",
        "sns.distplot(sundays_start_time.dt.hour, bins=24, kde=False, norm_hist=True)"
      ],
      "execution_count": 35,
      "outputs": [
        {
          "output_type": "stream",
          "name": "stderr",
          "text": [
            "/usr/local/lib/python3.7/dist-packages/seaborn/distributions.py:2619: FutureWarning: `distplot` is a deprecated function and will be removed in a future version. Please adapt your code to use either `displot` (a figure-level function with similar flexibility) or `histplot` (an axes-level function for histograms).\n",
            "  warnings.warn(msg, FutureWarning)\n"
          ]
        },
        {
          "output_type": "execute_result",
          "data": {
            "text/plain": [
              "<matplotlib.axes._subplots.AxesSubplot at 0x7f677989f310>"
            ]
          },
          "metadata": {},
          "execution_count": 35
        },
        {
          "output_type": "display_data",
          "data": {
            "image/png": "[encoded data removed]",
            "text/plain": [
              "<Figure size 432x288 with 1 Axes>"
            ]
          },
          "metadata": {}
        }
      ]
    },
    {
      "cell_type": "markdown",
      "metadata": {
        "id": "ScscO2RfjT4i"
      },
      "source": [
        "## Start Latitude and Longitude"
      ]
    },
    {
      "cell_type": "code",
      "metadata": {
        "colab": {
          "base_uri": "https://localhost:8080/"
        },
        "id": "iDgwo-NrkNQZ",
        "outputId": "d6bf2d17-343c-405f-a638-67cefb63db34"
      },
      "source": [
        "df.Start_Lat"
      ],
      "execution_count": 36,
      "outputs": [
        {
          "output_type": "execute_result",
          "data": {
            "text/plain": [
              "0          40.10891\n",
              "1          39.86542\n",
              "2          39.10266\n",
              "3          39.10148\n",
              "4          41.06213\n",
              "             ...   \n",
              "1516059    34.00248\n",
              "1516060    32.76696\n",
              "1516061    33.77545\n",
              "1516062    33.99246\n",
              "1516063    34.13393\n",
              "Name: Start_Lat, Length: 1516064, dtype: float64"
            ]
          },
          "metadata": {},
          "execution_count": 36
        }
      ]
    },
    {
      "cell_type": "code",
      "metadata": {
        "colab": {
          "base_uri": "https://localhost:8080/"
        },
        "id": "hjte3tyKkQxj",
        "outputId": "4d1f8665-946e-4a9c-c1c4-0f727be29e72"
      },
      "source": [
        "df.Start_Lng"
      ],
      "execution_count": 37,
      "outputs": [
        {
          "output_type": "execute_result",
          "data": {
            "text/plain": [
              "0          -83.09286\n",
              "1          -84.06280\n",
              "2          -84.52468\n",
              "3          -84.52341\n",
              "4          -81.53784\n",
              "             ...    \n",
              "1516059   -117.37936\n",
              "1516060   -117.14806\n",
              "1516061   -117.84779\n",
              "1516062   -118.40302\n",
              "1516063   -117.23092\n",
              "Name: Start_Lng, Length: 1516064, dtype: float64"
            ]
          },
          "metadata": {},
          "execution_count": 37
        }
      ]
    },
    {
      "cell_type": "code",
      "metadata": {
        "colab": {
          "base_uri": "https://localhost:8080/",
          "height": 299
        },
        "id": "W6Smg4PzkX6O",
        "outputId": "a60d8604-e2c0-4b5c-d084-48dd1e5eaa4c"
      },
      "source": [
        "# scatter plot\n",
        "sns.scatterplot(x=df.Start_Lng, y=df.Start_Lat, size=0.001)"
      ],
      "execution_count": 39,
      "outputs": [
        {
          "output_type": "execute_result",
          "data": {
            "text/plain": [
              "<matplotlib.axes._subplots.AxesSubplot at 0x7f6779774ad0>"
            ]
          },
          "metadata": {},
          "execution_count": 39
        },
        {
          "output_type": "display_data",
          "data": {
            "image/png": "[encoded data removed]",
            "text/plain": [
              "<Figure size 432x288 with 1 Axes>"
            ]
          },
          "metadata": {}
        }
      ]
    },
    {
      "cell_type": "markdown",
      "metadata": {
        "id": "Mw__xfctkwGP"
      },
      "source": [
        "### Scatter plot on a map"
      ]
    },
    {
      "cell_type": "code",
      "metadata": {
        "id": "hvkbxBuplUEe"
      },
      "source": [
        "import folium"
      ],
      "execution_count": 40,
      "outputs": []
    },
    {
      "cell_type": "code",
      "metadata": {
        "colab": {
          "base_uri": "https://localhost:8080/"
        },
        "id": "_Zcd9oryldpM",
        "outputId": "b3c4ae9c-79b5-4741-cd70-09fd3400514e"
      },
      "source": [
        "# put one point on the map\n",
        "lat, lon = df.Start_Lat[0], df.Start_Lng[0]\n",
        "lat, lon"
      ],
      "execution_count": 41,
      "outputs": [
        {
          "output_type": "execute_result",
          "data": {
            "text/plain": [
              "(40.108909999999995, -83.09286)"
            ]
          },
          "metadata": {},
          "execution_count": 41
        }
      ]
    },
    {
      "cell_type": "code",
      "metadata": {
        "colab": {
          "base_uri": "https://localhost:8080/"
        },
        "id": "DoWpscr3lc5R",
        "outputId": "bbb5ea40-586b-48b8-b56c-8c90cf144eb9"
      },
      "source": [
        "for x in df[['Start_Lat', 'Start_Lng']].sample(100).iteritems():\n",
        "    print(x[1])"
      ],
      "execution_count": 42,
      "outputs": [
        {
          "output_type": "stream",
          "name": "stdout",
          "text": [
            "328786     38.162348\n",
            "738290     43.110990\n",
            "277383     44.464281\n",
            "22890      38.841050\n",
            "1147018    44.977260\n",
            "             ...    \n",
            "563907     40.615379\n",
            "233588     35.253820\n",
            "648892     33.344203\n",
            "431181     29.688873\n",
            "209706     37.271223\n",
            "Name: Start_Lat, Length: 100, dtype: float64\n",
            "328786     -75.310063\n",
            "738290     -77.547710\n",
            "277383    -124.077785\n",
            "22890     -104.830240\n",
            "1147018   -122.991230\n",
            "              ...    \n",
            "563907    -112.295002\n",
            "233588     -81.456900\n",
            "648892    -111.972345\n",
            "431181     -95.581263\n",
            "209706    -121.947632\n",
            "Name: Start_Lng, Length: 100, dtype: float64\n"
          ]
        }
      ]
    },
    {
      "cell_type": "code",
      "metadata": {
        "colab": {
          "base_uri": "https://localhost:8080/"
        },
        "id": "kiK74Kx9mHlB",
        "outputId": "aaa69420-0cad-4bbf-a5d8-07eb1289868c"
      },
      "source": [
        "# get a list of pairs\n",
        "zip(list(df.Start_Lat), list(df.Start_Lng))  # we get all the lats and longs as a list"
      ],
      "execution_count": 43,
      "outputs": [
        {
          "output_type": "execute_result",
          "data": {
            "text/plain": [
              "<zip at 0x7f6777b41a50>"
            ]
          },
          "metadata": {},
          "execution_count": 43
        }
      ]
    },
    {
      "cell_type": "markdown",
      "metadata": {
        "id": "oneMoaCrmbW9"
      },
      "source": [
        "### Create a heatmap"
      ]
    },
    {
      "cell_type": "code",
      "metadata": {
        "id": "7ZNSjH1dmpyn"
      },
      "source": [
        "from folium.plugins import HeatMap"
      ],
      "execution_count": 44,
      "outputs": []
    },
    {
      "cell_type": "code",
      "metadata": {
        "id": "IzoyKMl_mqUQ"
      },
      "source": [
        "sample_df = df.sample(int(0.001 * len(df)))  # create a smaller sample data to view\n",
        "lat_lon_pairs = list(zip(list(sample_df.Start_Lat), list(sample_df.Start_Lng)))"
      ],
      "execution_count": 45,
      "outputs": []
    },
    {
      "cell_type": "code",
      "metadata": {
        "colab": {
          "base_uri": "https://localhost:8080/",
          "height": 763
        },
        "id": "95jA5nRYmuOz",
        "outputId": "10af32cf-f9a2-4562-9856-81f419c82577"
      },
      "source": [
        "map = folium.Map()\n",
        "HeatMap(lat_lon_pairs).add_to(map)\n",
        "map"
      ],
      "execution_count": 46,
      "outputs": [
        {
          "output_type": "execute_result",
          "data": {
            "text/html": [
              "<div style=\"width:100%;\"><div style=\"position:relative;width:100%;height:0;padding-bottom:60%;\"><span style=\"color:#565656\">Make this Notebook Trusted to load map: File -> Trust Notebook</span><iframe src=\"about:blank\" style=\"position:absolute;width:100%;height:100%;left:0;top:0;border:none !important;\" data-html=%3C%21DOCTYPE%20html%3E%0A%3Chead%3E%20%20%20%20%0A%20%20%20%20%3Cmeta%20http-equiv%3D%22content-type%22%20content%3D%22text/html%3B%20charset%3DUTF-8%22%20/%3E%0A%20%20%20%20%3Cscript%3EL_PREFER_CANVAS%3Dfalse%3B%20L_NO_TOUCH%3Dfalse%3B%20L_DISABLE_3D%3Dfalse%3B%3C/script%3E%0A%20%20%20%20%3Cscript%20src%3D%22https%3A//cdn.jsdelivr.net/npm/leaflet%401.4.0/dist/leaflet.js%22%3E%3C/script%3E%0A%20%20%20%20%3Cscript%20src%3D%22https%3A//code.jquery.com/jquery-1.12.4.min.js%22%3E%3C/script%3E%0A%20%20%20%20%3Cscript%20src%3D%22https%3A//maxcdn.bootstrapcdn.com/bootstrap/3.2.0/js/bootstrap.min.js%22%3E%3C/script%3E%0A%20%20%20%20%3Cscript%20src%3D%22https%3A//cdnjs.cloudflare.com/ajax/libs/Leaflet.awesome-markers/2.0.2/leaflet.awesome-markers.js%22%3E%3C/script%3E%0A%20%20%20%20%3Clink%20rel%3D%22stylesheet%22%20href%3D%22https%3A//cdn.jsdelivr.net/npm/leaflet%401.4.0/dist/leaflet.css%22/%3E%0A%20%20%20%20%3Clink%20rel%3D%22stylesheet%22%20href%3D%22https%3A//maxcdn.bootstrapcdn.com/bootstrap/3.2.0/css/bootstrap.min.css%22/%3E%0A%20%20%20%20%3Clink%20rel%3D%22stylesheet%22%20href%3D%22https%3A//maxcdn.bootstrapcdn.com/bootstrap/3.2.0/css/bootstrap-theme.min.css%22/%3E%0A%20%20%20%20%3Clink%20rel%3D%22stylesheet%22%20href%3D%22https%3A//maxcdn.bootstrapcdn.com/font-awesome/4.6.3/css/font-awesome.min.css%22/%3E%0A%20%20%20%20%3Clink%20rel%3D%22stylesheet%22%20href%3D%22https%3A//cdnjs.cloudflare.com/ajax/libs/Leaflet.awesome-markers/2.0.2/leaflet.awesome-markers.css%22/%3E%0A%20%20%20%20%3Clink%20rel%3D%22stylesheet%22%20href%3D%22https%3A//rawcdn.githack.com/python-visualization/folium/master/folium/templates/leaflet.awesome.rotate.css%22/%3E%0A%20%20%20%20%3Cstyle%3Ehtml%2C%20body%20%7Bwidth%3A%20100%25%3Bheight%3A%20100%25%3Bmargin%3A%200%3Bpadding%3A%200%3B%7D%3C/style%3E%0A%20%20%20%20%3Cstyle%3E%23map%20%7Bposition%3Aabsolute%3Btop%3A0%3Bbottom%3A0%3Bright%3A0%3Bleft%3A0%3B%7D%3C/style%3E%0A%20%20%20%20%0A%20%20%20%20%3Cmeta%20name%3D%22viewport%22%20content%3D%22width%3Ddevice-width%2C%0A%20%20%20%20%20%20%20%20initial-scale%3D1.0%2C%20maximum-scale%3D1.0%2C%20user-scalable%3Dno%22%20/%3E%0A%20%20%20%20%3Cstyle%3E%23map_50ce3d9b00da4d868a48a89232715f6a%20%7B%0A%20%20%20%20%20%20%20%20position%3A%20relative%3B%0A%20%20%20%20%20%20%20%20width%3A%20100.0%25%3B%0A%20%20%20%20%20%20%20%20height%3A%20100.0%25%3B%0A%20%20%20%20%20%20%20%20left%3A%200.0%25%3B%0A%20%20%20%20%20%20%20%20top%3A%200.0%25%3B%0A%20%20%20%20%20%20%20%20%7D%0A%20%20%20%20%3C/style%3E%0A%20%20%20%20%3Cscript%20src%3D%22https%3A//leaflet.github.io/Leaflet.heat/dist/leaflet-heat.js%22%3E%3C/script%3E%0A%3C/head%3E%0A%3Cbody%3E%20%20%20%20%0A%20%20%20%20%0A%20%20%20%20%3Cdiv%20class%3D%22folium-map%22%20id%3D%22map_50ce3d9b00da4d868a48a89232715f6a%22%20%3E%3C/div%3E%0A%3C/body%3E%0A%3Cscript%3E%20%20%20%20%0A%20%20%20%20%0A%20%20%20%20%0A%20%20%20%20%20%20%20%20var%20bounds%20%3D%20null%3B%0A%20%20%20%20%0A%0A%20%20%20%20var%20map_50ce3d9b00da4d868a48a89232715f6a%20%3D%20L.map%28%0A%20%20%20%20%20%20%20%20%27map_50ce3d9b00da4d868a48a89232715f6a%27%2C%20%7B%0A%20%20%20%20%20%20%20%20center%3A%20%5B0%2C%200%5D%2C%0A%20%20%20%20%20%20%20%20zoom%3A%201%2C%0A%20%20%20%20%20%20%20%20maxBounds%3A%20bounds%2C%0A%20%20%20%20%20%20%20%20layers%3A%20%5B%5D%2C%0A%20%20%20%20%20%20%20%20worldCopyJump%3A%20false%2C%0A%20%20%20%20%20%20%20%20crs%3A%20L.CRS.EPSG3857%2C%0A%20%20%20%20%20%20%20%20zoomControl%3A%20true%2C%0A%20%20%20%20%20%20%20%20%7D%29%3B%0A%0A%0A%20%20%20%20%0A%20%20%20%20var%20tile_layer_c522ae98b4ac422081d1ab6ba4555e29%20%3D%20L.tileLayer%28%0A%20%20%20%20%20%20%20%20%27https%3A//%7Bs%7D.tile.openstreetmap.org/%7Bz%7D/%7Bx%7D/%7By%7D.png%27%2C%0A%20%20%20%20%20%20%20%20%7B%0A%20%20%20%20%20%20%20%20%22attribution%22%3A%20null%2C%0A%20%20%20%20%20%20%20%20%22detectRetina%22%3A%20false%2C%0A%20%20%20%20%20%20%20%20%22maxNativeZoom%22%3A%2018%2C%0A%20%20%20%20%20%20%20%20%22maxZoom%22%3A%2018%2C%0A%20%20%20%20%20%20%20%20%22minZoom%22%3A%200%2C%0A%20%20%20%20%20%20%20%20%22noWrap%22%3A%20false%2C%0A%20%20%20%20%20%20%20%20%22opacity%22%3A%201%2C%0A%20%20%20%20%20%20%20%20%22subdomains%22%3A%20%22abc%22%2C%0A%20%20%20%20%20%20%20%20%22tms%22%3A%20false%0A%7D%29.addTo%28map_50ce3d9b00da4d868a48a89232715f6a%29%3B%0A%20%20%20%20%0A%20%20%20%20%20%20%20%20%20%20%20%20var%20heat_map_6d5e1fce07524b998c62c3a747f95b8f%20%3D%20L.heatLayer%28%0A%20%20%20%20%20%20%20%20%20%20%20%20%20%20%20%20%5B%5B25.9284%2C%20-80.21221%5D%2C%20%5B34.641083%2C%20-117.220548%5D%2C%20%5B30.338884999999998%2C%20-97.699501%5D%2C%20%5B33.740811%2C%20-117.833808%5D%2C%20%5B44.771039%2C%20-93.58512900000001%5D%2C%20%5B39.900595%2C%20-77.128734%5D%2C%20%5B37.869528%2C%20-122.30476200000001%5D%2C%20%5B33.735569%2C%20-117.818294%5D%2C%20%5B33.837374%2C%20-117.261596%5D%2C%20%5B40.69063%2C%20-73.58079000000001%5D%2C%20%5B41.87519%2C%20-87.69613000000001%5D%2C%20%5B42.33878%2C%20-71.26818%5D%2C%20%5B38.903539%2C%20-76.929454%5D%2C%20%5B42.433405%2C%20-83.219539%5D%2C%20%5B30.713156%2C%20-88.121034%5D%2C%20%5B40.720857%2C%20-80.311635%5D%2C%20%5B33.857925%2C%20-81.08214100000001%5D%2C%20%5B41.011648%2C%20-74.10688%5D%2C%20%5B37.84193%2C%20-122.29746000000002%5D%2C%20%5B29.273082000000002%2C%20-82.330158%5D%2C%20%5B43.65208%2C%20-93.8518%5D%2C%20%5B40.66141%2C%20-74.18448000000001%5D%2C%20%5B44.975640000000006%2C%20-93.28827%5D%2C%20%5B34.067893%2C%20-81.018784%5D%2C%20%5B30.25757%2C%20-92.02019%5D%2C%20%5B33.832043%2C%20-118.256374%5D%2C%20%5B39.255428%2C%20-77.541219%5D%2C%20%5B39.95802%2C%20-75.16329%5D%2C%20%5B33.569109000000005%2C%20-117.54366999999999%5D%2C%20%5B37.78606%2C%20-122.3909%5D%2C%20%5B28.406959999999998%2C%20-81.23275%5D%2C%20%5B44.7397%2C%20-94.21935%5D%2C%20%5B38.025645000000004%2C%20-122.112017%5D%2C%20%5B34.12085%2C%20-117.87931999999999%5D%2C%20%5B35.3525%2C%20-119.03944399999999%5D%2C%20%5B40.70795%2C%20-74.15609%5D%2C%20%5B45.43257%2C%20-122.57927%5D%2C%20%5B39.198149%2C%20-85.958637%5D%2C%20%5B34.02745%2C%20-118.2745%5D%2C%20%5B34.903164000000004%2C%20-92.402477%5D%2C%20%5B29.77001%2C%20-95.34979%5D%2C%20%5B45.5062%2C%20-122.7514%5D%2C%20%5B25.585545%2C%20-80.478172%5D%2C%20%5B41.78622%2C%20-71.42175999999999%5D%2C%20%5B37.57698%2C%20-122.32051000000001%5D%2C%20%5B44.7892%2C%20-93.40637%5D%2C%20%5B48.044081%2C%20-122.181326%5D%2C%20%5B36.880256%2C%20-119.973074%5D%2C%20%5B34.06357%2C%20-117.81026999999999%5D%2C%20%5B34.008451%2C%20-117.34709699999999%5D%2C%20%5B38.59385%2C%20-121.50407%5D%2C%20%5B40.86721%2C%20-74.044927%5D%2C%20%5B37.019068%2C%20-76.328238%5D%2C%20%5B43.396157%2C%20-121.816787%5D%2C%20%5B41.57934%2C%20-87.62646%5D%2C%20%5B37.70093%2C%20-121.74096000000002%5D%2C%20%5B39.09328%2C%20-94.88166%5D%2C%20%5B40.000859000000005%2C%20-111.484553%5D%2C%20%5B38.562686%2C%20-121.48894399999999%5D%2C%20%5B38.047818%2C%20-103.2204%5D%2C%20%5B33.45644%2C%20-117.65166%5D%2C%20%5B31.858914000000002%2C%20-81.445801%5D%2C%20%5B41.11757%2C%20-73.48787%5D%2C%20%5B27.76565%2C%20-82.64661%5D%2C%20%5B28.641143%2C%20-81.387851%5D%2C%20%5B29.932609999999997%2C%20-95.41175%5D%2C%20%5B25.885820000000002%2C%20-80.20896%5D%2C%20%5B25.673946%2C%20-80.44878%5D%2C%20%5B40.26073%2C%20-111.70541000000001%5D%2C%20%5B33.9878%2C%20-118.40276999999999%5D%2C%20%5B44.96456%2C%20-93.24333%5D%2C%20%5B38.28451%2C%20-121.45776000000001%5D%2C%20%5B37.635003000000005%2C%20-77.50990999999999%5D%2C%20%5B34.354304%2C%20-80.137055%5D%2C%20%5B37.327026000000004%2C%20-121.940871%5D%2C%20%5B35.2582%2C%20-89.67312%5D%2C%20%5B44.97327%2C%20-93.40061999999999%5D%2C%20%5B36.88107%2C%20-76.49172%5D%2C%20%5B45.22622%2C%20-122.81427%5D%2C%20%5B34.109158%2C%20-117.981146%5D%2C%20%5B34.062332%2C%20-118.432948%5D%2C%20%5B33.05305%2C%20-96.69606%5D%2C%20%5B34.014593%2C%20-117.45328400000001%5D%2C%20%5B29.729340000000004%2C%20-95.55744%5D%2C%20%5B33.868821000000004%2C%20-117.730125%5D%2C%20%5B32.75808%2C%20-117.10902%5D%2C%20%5B34.119194%2C%20-117.866969%5D%2C%20%5B39.051045%2C%20-84.552878%5D%2C%20%5B41.942009999999996%2C%20-87.71544%5D%2C%20%5B35.21136%2C%20-80.6867%5D%2C%20%5B37.74126%2C%20-121.49548999999999%5D%2C%20%5B33.95778%2C%20-117.85988%5D%2C%20%5B38.265418%2C%20-122.46192099999999%5D%2C%20%5B32.77809%2C%20-96.52179%5D%2C%20%5B39.812831%2C%20-104.95003200000001%5D%2C%20%5B45.67349%2C%20-94.83041%5D%2C%20%5B40.560323%2C%20-122.296577%5D%2C%20%5B45.511428%2C%20-122.56568999999999%5D%2C%20%5B33.998748%2C%20-118.14758400000001%5D%2C%20%5B38.61802%2C%20-121.40146999999999%5D%2C%20%5B40.75713%2C%20-73.10795999999999%5D%2C%20%5B30.412138%2C%20-91.080348%5D%2C%20%5B37.255786%2C%20-121.873073%5D%2C%20%5B34.690068%2C%20-117.95190600000001%5D%2C%20%5B35.064209999999996%2C%20-80.81154000000001%5D%2C%20%5B37.5556%2C%20-77.45861%5D%2C%20%5B41.57411%2C%20-87.29664%5D%2C%20%5B45.016833%2C%20-93.349252%5D%2C%20%5B33.569144%2C%20-86.720999%5D%2C%20%5B36.141220000000004%2C%20-86.73161999999999%5D%2C%20%5B44.9549%2C%20-93.18845999999999%5D%2C%20%5B37.495259999999995%2C%20-122.22908999999999%5D%2C%20%5B34.029537%2C%20-118.403218%5D%2C%20%5B40.399451%2C%20-111.919247%5D%2C%20%5B36.541174%2C%20-119.28806499999999%5D%2C%20%5B34.135249%2C%20-117.977636%5D%2C%20%5B40.037659999999995%2C%20-82.90272%5D%2C%20%5B25.904035%2C%20-80.243939%5D%2C%20%5B33.847514000000004%2C%20-117.87586499999999%5D%2C%20%5B32.766627%2C%20-96.597193%5D%2C%20%5B42.96217%2C%20-88.01804%5D%2C%20%5B39.168273%2C%20-111.72170700000001%5D%2C%20%5B34.068483%2C%20-117.973942%5D%2C%20%5B25.768570999999998%2C%20-80.369064%5D%2C%20%5B32.74672%2C%20-117.15642%5D%2C%20%5B44.629444%2C%20-122.951552%5D%2C%20%5B42.43315%2C%20-122.14848%5D%2C%20%5B40.99138%2C%20-111.90356000000001%5D%2C%20%5B37.592468%2C%20-79.380385%5D%2C%20%5B34.601735999999995%2C%20-118.14241299999999%5D%2C%20%5B47.78615%2C%20-122.14327%5D%2C%20%5B36.99429%2C%20-104.48061%5D%2C%20%5B40.15952%2C%20-75.47605%5D%2C%20%5B41.512679999999996%2C%20-88.07603%5D%2C%20%5B36.981201%2C%20-122.033832%5D%2C%20%5B33.997066%2C%20-117.93118%5D%2C%20%5B44.69041%2C%20-92.81334%5D%2C%20%5B35.225439%2C%20-80.848031%5D%2C%20%5B36.15999%2C%20-119.15262%5D%2C%20%5B33.137544%2C%20-117.13835700000001%5D%2C%20%5B33.94583%2C%20-118.09411999999999%5D%2C%20%5B38.660775%2C%20-121.346852%5D%2C%20%5B33.695937%2C%20-117.863677%5D%2C%20%5B40.348009999999995%2C%20-75.95508000000001%5D%2C%20%5B33.943808000000004%2C%20-118.09538700000002%5D%2C%20%5B42.409617%2C%20-83.164962%5D%2C%20%5B37.486934000000005%2C%20-77.432066%5D%2C%20%5B42.064406%2C%20-120.31563500000001%5D%2C%20%5B34.056166%2C%20-118.255995%5D%2C%20%5B38.89565%2C%20-76.84865%5D%2C%20%5B33.561612%2C%20-84.314886%5D%2C%20%5B38.846779999999995%2C%20-77.13746%5D%2C%20%5B38.008165999999996%2C%20-122.030414%5D%2C%20%5B37.507519%2C%20-120.99461299999999%5D%2C%20%5B34.133792%2C%20-118.275485%5D%2C%20%5B40.87353%2C%20-72.98213%5D%2C%20%5B40.71893%2C%20-111.85366%5D%2C%20%5B41.240109999999994%2C%20-96.0861%5D%2C%20%5B46.695440000000005%2C%20-94.37116999999999%5D%2C%20%5B42.23261%2C%20-87.82771%5D%2C%20%5B40.10945%2C%20-75.29526%5D%2C%20%5B33.77711%2C%20-117.89938000000001%5D%2C%20%5B34.160073%2C%20-118.469604%5D%2C%20%5B28.062276%2C%20-82.000811%5D%2C%20%5B47.653889%2C%20-117.37343500000001%5D%2C%20%5B41.37805%2C%20-73.12723000000001%5D%2C%20%5B45.279410999999996%2C%20-122.34877900000001%5D%2C%20%5B33.76336%2C%20-117.83111000000001%5D%2C%20%5B42.739628%2C%20-123.37128799999999%5D%2C%20%5B37.88912%2C%20-122.05798999999999%5D%2C%20%5B32.694643%2C%20-81.059563%5D%2C%20%5B28.664904999999997%2C%20-82.112276%5D%2C%20%5B33.928989%2C%20-81.037312%5D%2C%20%5B42.494389%2C%20-83.392607%5D%2C%20%5B37.544265%2C%20-77.42819899999999%5D%2C%20%5B45.5426%2C%20-122.51019%5D%2C%20%5B44.289159999999995%2C%20-121.16726000000001%5D%2C%20%5B36.692386%2C%20-119.752723%5D%2C%20%5B33.796048%2C%20-118.11098899999999%5D%2C%20%5B33.41097%2C%20-112.003809%5D%2C%20%5B30.658936999999998%2C%20-87.940704%5D%2C%20%5B41.80175%2C%20-88.16736999999999%5D%2C%20%5B40.00111%2C%20-75.82183%5D%2C%20%5B41.92933%2C%20-87.69015%5D%2C%20%5B26.621094%2C%20-81.64614%5D%2C%20%5B38.714376%2C%20-121.564022%5D%2C%20%5B43.18093%2C%20-77.63883%5D%2C%20%5B33.92889%2C%20-118.29314%5D%2C%20%5B25.750529999999998%2C%20-80.20877%5D%2C%20%5B28.37605%2C%20-80.70147%5D%2C%20%5B39.9116%2C%20-74.99833000000001%5D%2C%20%5B41.8045%2C%20-71.07592%5D%2C%20%5B34.914444%2C%20-118.92333300000001%5D%2C%20%5B38.564735999999996%2C%20-121.497739%5D%2C%20%5B42.32954%2C%20-120.30046999999999%5D%2C%20%5B39.88551%2C%20-83.04466%5D%2C%20%5B37.098299%2C%20-120.21510900000001%5D%2C%20%5B41.658537%2C%20-73.277787%5D%2C%20%5B42.921717%2C%20-85.63327%5D%2C%20%5B36.153044%2C%20-86.75539599999999%5D%2C%20%5B34.176996%2C%20-118.16335500000001%5D%2C%20%5B33.85993%2C%20-118.29548999999999%5D%2C%20%5B36.808421%2C%20-119.79493799999999%5D%2C%20%5B34.117697%2C%20-117.84633000000001%5D%2C%20%5B37.767965000000004%2C%20-77.461881%5D%2C%20%5B34.054371%2C%20-118.00436200000001%5D%2C%20%5B45.6128%2C%20-122.67823%5D%2C%20%5B37.515166%2C%20-77.536064%5D%2C%20%5B41.66388%2C%20-91.35076%5D%2C%20%5B42.197140000000005%2C%20-87.9896%5D%2C%20%5B39.64528%2C%20-104.91378%5D%2C%20%5B25.7885%2C%20-80.199502%5D%2C%20%5B40.58775%2C%20-111.969803%5D%2C%20%5B26.57517%2C%20-81.594342%5D%2C%20%5B37.155208%2C%20-122.353628%5D%2C%20%5B35.298778999999996%2C%20-120.674089%5D%2C%20%5B40.188707%2C%20-74.689897%5D%2C%20%5B39.437645%2C%20-76.81963499999999%5D%2C%20%5B35.621524%2C%20-79.66045600000001%5D%2C%20%5B29.969802%2C%20-90.034726%5D%2C%20%5B32.68084%2C%20-96.85335%5D%2C%20%5B33.85375%2C%20-117.96321999999999%5D%2C%20%5B41.626209%2C%20-87.57889%5D%2C%20%5B36.84552%2C%20-76.25585%5D%2C%20%5B39.77577%2C%20-104.8654%5D%2C%20%5B39.52033%2C%20-76.19893%5D%2C%20%5B30.057062%2C%20-89.969916%5D%2C%20%5B25.943451%2C%20-80.30708800000001%5D%2C%20%5B33.912209999999995%2C%20-117.28432%5D%2C%20%5B42.45707%2C%20-87.82522%5D%2C%20%5B27.981534000000003%2C%20-82.452529%5D%2C%20%5B34.068606%2C%20-117.392053%5D%2C%20%5B39.522897%2C%20-76.989172%5D%2C%20%5B38.683023%2C%20-121.33652%5D%2C%20%5B40.34613%2C%20-82.30145%5D%2C%20%5B32.90786%2C%20-96.91431%5D%2C%20%5B42.70224%2C%20-71.20997%5D%2C%20%5B36.780609999999996%2C%20-121.312712%5D%2C%20%5B27.479640999999997%2C%20-82.554808%5D%2C%20%5B33.607318%2C%20-117.75931100000001%5D%2C%20%5B37.422605%2C%20-120.766332%5D%2C%20%5B33.978486%2C%20-118.078208%5D%2C%20%5B38.61909%2C%20-90.28509%5D%2C%20%5B37.802184000000004%2C%20-122.297605%5D%2C%20%5B38.52854%2C%20-121.46971%5D%2C%20%5B33.65294%2C%20-84.4975%5D%2C%20%5B39.687329999999996%2C%20-75.64516%5D%2C%20%5B29.441240000000004%2C%20-98.6686%5D%2C%20%5B33.6987%2C%20-117.861755%5D%2C%20%5B32.760459999999995%2C%20-117.19218000000001%5D%2C%20%5B36.80773%2C%20-119.97031399999999%5D%2C%20%5B40.919261%2C%20-73.810969%5D%2C%20%5B37.948446999999994%2C%20-76.593287%5D%2C%20%5B35.83164%2C%20-78.67721999999999%5D%2C%20%5B34.194592%2C%20-85.948523%5D%2C%20%5B29.730216%2C%20-95.453714%5D%2C%20%5B34.031%2C%20-117.32828%5D%2C%20%5B41.95503%2C%20-87.73250999999999%5D%2C%20%5B33.805625%2C%20-118.142422%5D%2C%20%5B32.661359999999995%2C%20-97.28016%5D%2C%20%5B43.250696999999995%2C%20-73.66109399999999%5D%2C%20%5B30.388942999999998%2C%20-81.55876500000001%5D%2C%20%5B44.861129%2C%20-93.178058%5D%2C%20%5B42.208425%2C%20-88.233661%5D%2C%20%5B40.708712%2C%20-74.15699599999999%5D%2C%20%5B38.242129999999996%2C%20-122.08758%5D%2C%20%5B25.78875%2C%20-80.20004%5D%2C%20%5B33.969004%2C%20-118.45392700000001%5D%2C%20%5B45.548982%2C%20-121.568001%5D%2C%20%5B45.11557%2C%20-123.20686%5D%2C%20%5B39.764584%2C%20-75.31882%5D%2C%20%5B34.35638%2C%20-117.4382%5D%2C%20%5B39.61468%2C%20-77.79375%5D%2C%20%5B35.889340999999995%2C%20-120.04656100000001%5D%2C%20%5B25.8588%2C%20-80.20801999999999%5D%2C%20%5B32.722770000000004%2C%20-117.162931%5D%2C%20%5B40.77114%2C%20-73.56603%5D%2C%20%5B40.741821%2C%20-73.782967%5D%2C%20%5B39.230866%2C%20-121.04126699999999%5D%2C%20%5B26.25423%2C%20-80.13651999999999%5D%2C%20%5B29.969794%2C%20-90.039592%5D%2C%20%5B32.184875%2C%20-110.95925700000001%5D%2C%20%5B35.752955%2C%20-78.648623%5D%2C%20%5B35.751974%2C%20-78.340535%5D%2C%20%5B45.005399%2C%20-122.9967%5D%2C%20%5B29.65392%2C%20-82.508833%5D%2C%20%5B41.11424%2C%20-77.48165%5D%2C%20%5B44.67935%2C%20-123.86136299999998%5D%2C%20%5B33.921890000000005%2C%20-118.28151000000001%5D%2C%20%5B34.033961%2C%20-118.027414%5D%2C%20%5B39.16568%2C%20-76.73494000000001%5D%2C%20%5B33.596733%2C%20-117.10369299999999%5D%2C%20%5B33.343917%2C%20-87.026374%5D%2C%20%5B34.00473%2C%20-118.17285%5D%2C%20%5B26.16682%2C%20-80.133319%5D%2C%20%5B41.68313%2C%20-88.07160999999999%5D%2C%20%5B39.49344%2C%20-76.88936%5D%2C%20%5B36.606497999999995%2C%20-119.662603%5D%2C%20%5B34.404578%2C%20-118.57772800000001%5D%2C%20%5B33.986549%2C%20-118.13629099999999%5D%2C%20%5B25.972006%2C%20-80.262627%5D%2C%20%5B32.834959999999995%2C%20-97.2212%5D%2C%20%5B40.592036%2C%20-111.902106%5D%2C%20%5B25.94746%2C%20-80.15111999999999%5D%2C%20%5B34.294484999999995%2C%20-118.41623500000001%5D%2C%20%5B37.82759%2C%20-122.26798000000001%5D%2C%20%5B34.507101%2C%20-82.960435%5D%2C%20%5B40.737829999999995%2C%20-111.88823000000001%5D%2C%20%5B34.162255%2C%20-118.29401100000001%5D%2C%20%5B37.694582000000004%2C%20-122.14376000000001%5D%2C%20%5B27.96061%2C%20-82.723585%5D%2C%20%5B36.34568%2C%20-86.92726%5D%2C%20%5B42.4262%2C%20-71.10309000000001%5D%2C%20%5B42.341059%2C%20-121.400052%5D%2C%20%5B34.735116%2C%20-120.43821499999999%5D%2C%20%5B34.124187%2C%20-80.931207%5D%2C%20%5B28.472929999999998%2C%20-81.280822%5D%2C%20%5B38.290974%2C%20-81.781064%5D%2C%20%5B45.528871%2C%20-122.602217%5D%2C%20%5B43.94295%2C%20-94.88888%5D%2C%20%5B45.62604%2C%20-117.68456%5D%2C%20%5B30.006840000000004%2C%20-90.27515%5D%2C%20%5B42.15571%2C%20-122.64615%5D%2C%20%5B42.129639000000005%2C%20-122.63118300000001%5D%2C%20%5B34.00225%2C%20-117.55051%5D%2C%20%5B30.449047999999998%2C%20-84.304183%5D%2C%20%5B32.958405%2C%20-80.542937%5D%2C%20%5B37.695034%2C%20-122.07635400000001%5D%2C%20%5B37.62277%2C%20-77.55594%5D%2C%20%5B37.797358%2C%20-122.272209%5D%2C%20%5B37.961465999999994%2C%20-122.50767900000001%5D%2C%20%5B41.26427%2C%20-73.52968%5D%2C%20%5B39.14917%2C%20-84.44711%5D%2C%20%5B30.283437%2C%20-97.727122%5D%2C%20%5B42.476000000000006%2C%20-83.12123100000001%5D%2C%20%5B28.51173%2C%20-81.376279%5D%2C%20%5B42.40483%2C%20-83.156%5D%2C%20%5B44.6334%2C%20-123.08351%5D%2C%20%5B45.112041%2C%20-93.18853399999999%5D%2C%20%5B44.45612%2C%20-94.20102%5D%2C%20%5B34.37631%2C%20-83.87435%5D%2C%20%5B39.681078%2C%20-105.89914399999999%5D%2C%20%5B35.383506%2C%20-119.158355%5D%2C%20%5B39.09576%2C%20-94.554551%5D%2C%20%5B34.107343%2C%20-118.18665700000001%5D%2C%20%5B38.668596%2C%20-90.44906%5D%2C%20%5B30.291584000000004%2C%20-97.721964%5D%2C%20%5B28.410359999999997%2C%20-81.62774%5D%2C%20%5B33.721340000000005%2C%20-87.18533000000001%5D%2C%20%5B39.03232%2C%20-94.288536%5D%2C%20%5B38.563394%2C%20-121.471677%5D%2C%20%5B36.223690000000005%2C%20-119.33333999999999%5D%2C%20%5B29.535709999999998%2C%20-95.13713%5D%2C%20%5B37.54587%2C%20-77.45528%5D%2C%20%5B34.023920000000004%2C%20-118.18988%5D%2C%20%5B32.983090000000004%2C%20-80.07857%5D%2C%20%5B25.619495999999998%2C%20-80.346705%5D%2C%20%5B34.356384000000006%2C%20-117.43821399999999%5D%2C%20%5B40.932532%2C%20-73.87903%5D%2C%20%5B34.154174%2C%20-80.879447%5D%2C%20%5B39.897148%2C%20-74.990033%5D%2C%20%5B30.423965000000003%2C%20-91.074987%5D%2C%20%5B34.85013%2C%20-117.08588%5D%2C%20%5B42.34223%2C%20-87.95382%5D%2C%20%5B44.98041%2C%20-93.24424%5D%2C%20%5B38.412612%2C%20-78.890803%5D%2C%20%5B44.70805%2C%20-121.1672%5D%2C%20%5B45.54549%2C%20-122.67728899999999%5D%2C%20%5B39.258109999999995%2C%20-94.5964%5D%2C%20%5B33.944363%2C%20-83.336287%5D%2C%20%5B41.65813%2C%20-87.58708%5D%2C%20%5B30.468231%2C%20-81.64709599999999%5D%2C%20%5B37.901891%2C%20-121.285743%5D%2C%20%5B45.918549%2C%20-94.34517199999999%5D%2C%20%5B39.23299%2C%20-76.81309%5D%2C%20%5B32.9069%2C%20-96.72828%5D%2C%20%5B39.368777%2C%20-77.27193299999999%5D%2C%20%5B37.83396%2C%20-122.48337%5D%2C%20%5B42.306465%2C%20-87.960643%5D%2C%20%5B34.029203%2C%20-118.01245300000001%5D%2C%20%5B28.557029999999997%2C%20-81.457607%5D%2C%20%5B40.72429%2C%20-111.90703%5D%2C%20%5B44.84075%2C%20-93.29819%5D%2C%20%5B42.850209%2C%20-73.755093%5D%2C%20%5B33.66171%2C%20-84.02468%5D%2C%20%5B41.682970000000005%2C%20-71.90821%5D%2C%20%5B29.945165000000003%2C%20-90.040761%5D%2C%20%5B42.641051000000004%2C%20-123.38771000000001%5D%2C%20%5B25.863028%2C%20-80.322622%5D%2C%20%5B26.08325%2C%20-80.17908%5D%2C%20%5B37.59463%2C%20-77.56626%5D%2C%20%5B38.612359999999995%2C%20-90.2012%5D%2C%20%5B35.21062%2C%20-80.83718%5D%2C%20%5B37.76197%2C%20-122.40578000000001%5D%2C%20%5B40.08551%2C%20-82.79519%5D%2C%20%5B34.80816%2C%20-117.09878%5D%2C%20%5B37.178872%2C%20-93.317965%5D%2C%20%5B42.19683%2C%20-87.88625%5D%2C%20%5B25.848887%2C%20-80.207993%5D%2C%20%5B28.748506%2C%20-81.365894%5D%2C%20%5B35.393363%2C%20-118.99248%5D%2C%20%5B42.847677000000004%2C%20-121.83283200000001%5D%2C%20%5B26.318021%2C%20-80.116414%5D%2C%20%5B43.018544%2C%20-85.696588%5D%2C%20%5B45.22355%2C%20-122.77576%5D%2C%20%5B42.989813%2C%20-78.908776%5D%2C%20%5B39.191204%2C%20-94.514275%5D%2C%20%5B41.88408%2C%20-87.7013%5D%2C%20%5B43.167336999999996%2C%20-77.62683299999999%5D%2C%20%5B38.568428999999995%2C%20-77.334636%5D%2C%20%5B44.68592%2C%20-93.29326999999999%5D%2C%20%5B28.5327%2C%20-81.52565%5D%2C%20%5B42.26872%2C%20-83.216059%5D%2C%20%5B36.407227%2C%20-119.458514%5D%2C%20%5B32.177867%2C%20-111.00004299999999%5D%2C%20%5B33.8508%2C%20-117.84365%5D%2C%20%5B40.74034%2C%20-112.189174%5D%2C%20%5B25.98453%2C%20-80.3479%5D%2C%20%5B39.552232000000004%2C%20-78.866247%5D%2C%20%5B37.158809999999995%2C%20-121.98262%5D%2C%20%5B28.380537%2C%20-81.40462%5D%2C%20%5B36.922928000000006%2C%20-119.921531%5D%2C%20%5B32.90922%2C%20-96.73241999999999%5D%2C%20%5B28.080731%2C%20-81.649622%5D%2C%20%5B40.98735%2C%20-73.68024%5D%2C%20%5B39.81619%2C%20-84.18918000000001%5D%2C%20%5B34.444990999999995%2C%20-119.199772%5D%2C%20%5B37.76501%2C%20-121.394815%5D%2C%20%5B35.23742%2C%20-80.74302%5D%2C%20%5B26.312459999999998%2C%20-80.11742%5D%2C%20%5B40.921527000000005%2C%20-111.89066000000001%5D%2C%20%5B40.768184000000005%2C%20-73.981418%5D%2C%20%5B42.26677%2C%20-83.22617%5D%2C%20%5B41.81693%2C%20-71.49238000000001%5D%2C%20%5B40.71578%2C%20-73.74656%5D%2C%20%5B33.901138%2C%20-117.468639%5D%2C%20%5B40.070659%2C%20-75.152182%5D%2C%20%5B30.457603999999996%2C%20-81.63615899999999%5D%2C%20%5B40.70565%2C%20-73.81796999999999%5D%2C%20%5B33.41187%2C%20-112.01063%5D%2C%20%5B44.076041%2C%20-122.771896%5D%2C%20%5B40.10913%2C%20-83.08653000000001%5D%2C%20%5B34.077467%2C%20-117.47119199999999%5D%2C%20%5B35.0885%2C%20-78.95330600000001%5D%2C%20%5B32.80046%2C%20-97.05476999999999%5D%2C%20%5B29.670374%2C%20-95.332567%5D%2C%20%5B33.859753000000005%2C%20-118.309149%5D%2C%20%5B43.0175%2C%20-74.99346%5D%2C%20%5B34.064444%2C%20-117.208752%5D%2C%20%5B34.957524%2C%20-82.174289%5D%2C%20%5B41.79272%2C%20-88.03786%5D%2C%20%5B37.41766%2C%20-121.97332%5D%2C%20%5B33.811873%2C%20-118.207039%5D%2C%20%5B26.804440000000003%2C%20-80.09824%5D%2C%20%5B34.034053%2C%20-117.32456100000002%5D%2C%20%5B47.5034%2C%20-122.2781%5D%2C%20%5B35.80838%2C%20-78.41861800000001%5D%2C%20%5B36.17933%2C%20-85.9503%5D%2C%20%5B40.93815%2C%20-121.60661100000002%5D%2C%20%5B35.889340999999995%2C%20-120.04656100000001%5D%2C%20%5B40.064335%2C%20-75.32944%5D%2C%20%5B39.507278%2C%20-106.14348000000001%5D%2C%20%5B45.619029%2C%20-119.441103%5D%2C%20%5B39.01585%2C%20-77.0079%5D%2C%20%5B33.598071999999995%2C%20-117.11858899999999%5D%2C%20%5B33.82284%2C%20-117.85303700000001%5D%2C%20%5B39.106408%2C%20-94.573745%5D%2C%20%5B42.220659999999995%2C%20-83.43346%5D%2C%20%5B32.342194%2C%20-86.32679%5D%2C%20%5B25.688533%2C%20-80.319076%5D%2C%20%5B33.77163%2C%20-118.2041%5D%2C%20%5B33.95697%2C%20-118.28057%5D%2C%20%5B34.037071000000005%2C%20-118.08908999999998%5D%2C%20%5B39.93224%2C%20-82.85475%5D%2C%20%5B28.571140999999997%2C%20-81.38573000000001%5D%2C%20%5B37.74965%2C%20-112.37693%5D%2C%20%5B33.99562%2C%20-117.87539%5D%2C%20%5B38.82962%2C%20-77.21903%5D%2C%20%5B38.56057%2C%20-121.45827%5D%2C%20%5B41.00799%2C%20-75.63606999999999%5D%2C%20%5B33.078377%2C%20-97.024197%5D%2C%20%5B39.74628%2C%20-105.39773999999998%5D%2C%20%5B34.002559000000005%2C%20-117.55016%5D%2C%20%5B26.52376%2C%20-80.1727%5D%2C%20%5B45.37073%2C%20-122.74762%5D%2C%20%5B41.31252%2C%20-81.64871%5D%2C%20%5B39.359031%2C%20-120.14024199999999%5D%2C%20%5B38.56791%2C%20-121.5122%5D%2C%20%5B40.96021%2C%20-111.89133999999999%5D%2C%20%5B40.488332%2C%20-107.16571200000001%5D%2C%20%5B35.758365999999995%2C%20-78.728849%5D%2C%20%5B39.08914%2C%20-76.62509%5D%2C%20%5B34.06726%2C%20-117.53581000000001%5D%2C%20%5B30.448876000000002%2C%20-91.037961%5D%2C%20%5B32.78885%2C%20-96.80247%5D%2C%20%5B37.824317%2C%20-122.31481000000001%5D%2C%20%5B40.173686%2C%20-74.483796%5D%2C%20%5B38.91745%2C%20-76.97267%5D%2C%20%5B35.32266%2C%20-80.90163000000001%5D%2C%20%5B41.729253%2C%20-88.01180699999999%5D%2C%20%5B40.020699%2C%20-76.183773%5D%2C%20%5B38.354593%2C%20-122.71325800000001%5D%2C%20%5B34.042952%2C%20-118.272653%5D%2C%20%5B34.136185%2C%20-117.41093500000001%5D%2C%20%5B25.784883999999998%2C%20-80.216121%5D%2C%20%5B37.12924%2C%20-121.97731999999999%5D%2C%20%5B30.328937%2C%20-81.676734%5D%2C%20%5B32.76099%2C%20-97.31815%5D%2C%20%5B28.54842%2C%20-81.4394%5D%2C%20%5B33.61208%2C%20-83.8203%5D%2C%20%5B37.83583%2C%20-122.48469399999999%5D%2C%20%5B39.08729%2C%20-84.52280999999999%5D%2C%20%5B34.117709000000005%2C%20-117.849708%5D%2C%20%5B30.43168%2C%20-87.21607%5D%2C%20%5B37.31669%2C%20-121.94813%5D%2C%20%5B38.40957%2C%20-105.584809%5D%2C%20%5B33.904385999999995%2C%20-84.276802%5D%2C%20%5B39.9603%2C%20-75.1809%5D%2C%20%5B39.71734%2C%20-104.22813000000001%5D%2C%20%5B39.069925%2C%20-76.830959%5D%2C%20%5B47.63967%2C%20-122.1867%5D%2C%20%5B29.72737%2C%20-95.5576%5D%2C%20%5B35.01555%2C%20-85.25357%5D%2C%20%5B25.785408%2C%20-80.21477%5D%2C%20%5B34.404877%2C%20-118.57461299999999%5D%2C%20%5B32.315709999999996%2C%20-111.01226000000001%5D%2C%20%5B40.428763000000004%2C%20-79.939024%5D%2C%20%5B36.84125%2C%20-76.16351999999999%5D%2C%20%5B32.753479999999996%2C%20-96.80951999999999%5D%2C%20%5B37.503818%2C%20-121.962855%5D%2C%20%5B33.77207%2C%20-117.90919%5D%2C%20%5B44.970851%2C%20-93.36095%5D%2C%20%5B37.70463%2C%20-122.40709%5D%2C%20%5B37.824529999999996%2C%20-122.30412%5D%2C%20%5B45.450621000000005%2C%20-122.57181200000001%5D%2C%20%5B37.808361%2C%20-122.241497%5D%2C%20%5B42.370321000000004%2C%20-87.865976%5D%2C%20%5B40.780458%2C%20-124.13899099999999%5D%2C%20%5B28.250237%2C%20-82.72766999999999%5D%2C%20%5B34.106145%2C%20-80.31366700000001%5D%2C%20%5B38.567993%2C%20-121.50888700000002%5D%2C%20%5B47.171065999999996%2C%20-122.22934%5D%2C%20%5B39.77673%2C%20-104.87621000000001%5D%2C%20%5B32.991471999999995%2C%20-96.710112%5D%2C%20%5B41.00055%2C%20-73.65276%5D%2C%20%5B37.451879999999996%2C%20-122.12661000000001%5D%2C%20%5B32.72611%2C%20-97.3206%5D%2C%20%5B35.396211%2C%20-118.93198500000001%5D%2C%20%5B45.126160999999996%2C%20-121.59101499999998%5D%2C%20%5B42.43622%2C%20-83.09506999999999%5D%2C%20%5B34.020307%2C%20-118.19226699999999%5D%2C%20%5B44.57731%2C%20-94.14055%5D%2C%20%5B34.06787%2C%20-117.51727%5D%2C%20%5B38.36326%2C%20-81.73791999999999%5D%2C%20%5B37.3784%2C%20-77.47518000000001%5D%2C%20%5B40.838725%2C%20-73.93324799999999%5D%2C%20%5B38.763788%2C%20-76.882678%5D%2C%20%5B42.28738%2C%20-83.19473%5D%2C%20%5B38.851185%2C%20-76.97269200000001%5D%2C%20%5B38.67988%2C%20-121.33941000000002%5D%2C%20%5B41.87124%2C%20-87.83788%5D%2C%20%5B37.7011%2C%20-122.4714%5D%2C%20%5B41.85324%2C%20-73.88661%5D%2C%20%5B47.23251%2C%20-122.46325%5D%2C%20%5B40.6664%2C%20-73.80175%5D%2C%20%5B38.9622%2C%20-76.64707%5D%2C%20%5B35.1194%2C%20-109.56648%5D%2C%20%5B38.490111999999996%2C%20-121.41014799999999%5D%2C%20%5B44.905514000000004%2C%20-93.885338%5D%2C%20%5B32.749617%2C%20-96.902565%5D%2C%20%5B43.148121%2C%20-123.37505900000001%5D%2C%20%5B33.846738%2C%20-118.21163100000001%5D%2C%20%5B28.49447%2C%20-81.39676%5D%2C%20%5B38.782319%2C%20-90.486317%5D%2C%20%5B41.342571%2C%20-72.972832%5D%2C%20%5B37.32447%2C%20-122.39992%5D%2C%20%5B39.032427%2C%20-76.94295100000001%5D%2C%20%5B39.81825%2C%20-84.073976%5D%2C%20%5B29.589609000000003%2C%20-95.46487900000001%5D%2C%20%5B33.930684%2C%20-84.17069000000001%5D%2C%20%5B32.337493%2C%20-111.088105%5D%2C%20%5B44.05493%2C%20-121.30703999999999%5D%2C%20%5B43.101960999999996%2C%20-76.18141999999999%5D%2C%20%5B37.278596%2C%20-119.575635%5D%2C%20%5B30.25511%2C%20-81.51847%5D%2C%20%5B45.177658%2C%20-122.853831%5D%2C%20%5B43.192731%2C%20-77.63726899999999%5D%2C%20%5B34.743243%2C%20-120.439044%5D%2C%20%5B27.58359%2C%20-82.588766%5D%2C%20%5B27.539720000000003%2C%20-82.56389%5D%2C%20%5B32.481682%2C%20-93.741714%5D%2C%20%5B37.73222%2C%20-122.41524%5D%2C%20%5B45.07311%2C%20-122.95955%5D%2C%20%5B44.023278000000005%2C%20-121.359132%5D%2C%20%5B28.29164%2C%20-82.67593000000001%5D%2C%20%5B35.26126%2C%20-80.836997%5D%2C%20%5B28.898804%2C%20-82.446655%5D%2C%20%5B41.874252%2C%20-87.9613%5D%2C%20%5B39.5942%2C%20-76.671341%5D%2C%20%5B44.6997%2C%20-93.28726%5D%2C%20%5B42.951859000000006%2C%20-83.831769%5D%2C%20%5B36.087476%2C%20-86.73084399999999%5D%2C%20%5B30.44135%2C%20-84.22655%5D%2C%20%5B25.768128%2C%20-80.385746%5D%2C%20%5B38.80851%2C%20-76.76756999999999%5D%2C%20%5B33.924138%2C%20-118.023223%5D%2C%20%5B41.268229999999996%2C%20-81.61796%5D%2C%20%5B42.93782%2C%20-85.58509000000001%5D%2C%20%5B32.995884000000004%2C%20-117.256476%5D%2C%20%5B37.849323%2C%20-120.88041499999999%5D%2C%20%5B25.642714%2C%20-80.334553%5D%2C%20%5B30.408921999999997%2C%20-81.657503%5D%2C%20%5B32.66791%2C%20-97.31508000000001%5D%2C%20%5B41.29074%2C%20-72.57408000000001%5D%2C%20%5B37.821007%2C%20-122.30216000000001%5D%2C%20%5B34.067714%2C%20-117.515928%5D%2C%20%5B33.386494%2C%20-111.620508%5D%2C%20%5B30.402821999999997%2C%20-87.374043%5D%2C%20%5B40.766020000000005%2C%20-74.02254%5D%2C%20%5B43.275802%2C%20-122.45538799999999%5D%2C%20%5B33.810790000000004%2C%20-84.18174%5D%2C%20%5B37.686665000000005%2C%20-122.12618799999998%5D%2C%20%5B37.8878%2C%20-122.30926000000001%5D%2C%20%5B35.223290000000006%2C%20-80.62424%5D%2C%20%5B41.542640000000006%2C%20-122.22926000000001%5D%2C%20%5B30.430190999999997%2C%20-91.056703%5D%2C%20%5B25.732293%2C%20-80.372899%5D%2C%20%5B37.181551%2C%20-77.354229%5D%2C%20%5B34.013059999999996%2C%20-117.344%5D%2C%20%5B33.958925%2C%20-91.907833%5D%2C%20%5B44.0875%2C%20-123.06415%5D%2C%20%5B30.360406%2C%20-87.359093%5D%2C%20%5B25.954287%2C%20-80.275487%5D%2C%20%5B42.47506%2C%20-96.192224%5D%2C%20%5B39.613005%2C%20-84.182376%5D%2C%20%5B41.00715%2C%20-84.84435%5D%2C%20%5B42.20026%2C%20-87.89076%5D%2C%20%5B38.879081%2C%20-77.253209%5D%2C%20%5B29.822552%2C%20-95.56321%5D%2C%20%5B35.051131%2C%20-80.76959599999999%5D%2C%20%5B34.06405%2C%20-117.296292%5D%2C%20%5B44.90309%2C%20-93.13798%5D%2C%20%5B39.061448999999996%2C%20-77.155727%5D%2C%20%5B38.679443%2C%20-121.368302%5D%2C%20%5B34.95856%2C%20-78.8931%5D%2C%20%5B41.94639%2C%20-71.48028000000001%5D%2C%20%5B38.871806%2C%20-76.98214300000001%5D%2C%20%5B38.895216%2C%20-79.473849%5D%2C%20%5B47.580109%2C%20-122.16149899999999%5D%2C%20%5B25.83548%2C%20-80.20618%5D%2C%20%5B36.853664%2C%20-120.776449%5D%2C%20%5B42.40168%2C%20-71.04151%5D%2C%20%5B30.403622%2C%20-81.564785%5D%2C%20%5B34.067391%2C%20-117.571724%5D%2C%20%5B42.49453%2C%20-83.29499%5D%2C%20%5B34.04569%2C%20-118.21552%5D%2C%20%5B40.4117%2C%20-74.14164%5D%2C%20%5B45.072623%2C%20-122.96036299999999%5D%2C%20%5B38.945170000000005%2C%20-104.80069%5D%2C%20%5B38.083059999999996%2C%20-122.11433000000001%5D%2C%20%5B39.12256%2C%20-84.20117900000001%5D%2C%20%5B36.711892%2C%20-82.792641%5D%2C%20%5B30.297148999999997%2C%20-81.77092900000001%5D%2C%20%5B35.11878%2C%20-90.07056%5D%2C%20%5B40.692440000000005%2C%20-73.39799000000001%5D%2C%20%5B34.066660999999996%2C%20-117.251275%5D%2C%20%5B34.117489%2C%20-117.84631999999999%5D%2C%20%5B38.5611%2C%20-77.38469%5D%2C%20%5B33.958870000000005%2C%20-81.09429%5D%2C%20%5B33.61485%2C%20-117.70758000000001%5D%2C%20%5B30.220795000000003%2C%20-81.57407099999999%5D%2C%20%5B44.96605%2C%20-93.2478%5D%2C%20%5B39.491182%2C%20-76.666942%5D%2C%20%5B29.212094%2C%20-82.063582%5D%2C%20%5B43.78499%2C%20-70.19041999999999%5D%2C%20%5B33.9006%2C%20-93.30053000000001%5D%2C%20%5B33.29632%2C%20-117.02273000000001%5D%2C%20%5B42.975302%2C%20-76.806267%5D%2C%20%5B38.35423%2C%20-78.92879%5D%2C%20%5B34.319117%2C%20-117.48108700000002%5D%2C%20%5B38.481637%2C%20-121.40528400000001%5D%2C%20%5B32.457203%2C%20-80.64415%5D%2C%20%5B33.768515%2C%20-117.86771999999999%5D%2C%20%5B36.02001%2C%20-79.73291%5D%2C%20%5B36.297872999999996%2C%20-119.474333%5D%2C%20%5B25.925482000000002%2C%20-80.17604200000001%5D%2C%20%5B34.285553%2C%20-118.411786%5D%2C%20%5B40.740990000000004%2C%20-73.82132%5D%2C%20%5B41.46865%2C%20-81.65923000000001%5D%2C%20%5B32.209528999999996%2C%20-110.99419499999999%5D%2C%20%5B33.157908%2C%20-80.305088%5D%2C%20%5B34.001853999999994%2C%20-117.834566%5D%2C%20%5B33.912382%2C%20-118.37057%5D%2C%20%5B29.70212%2C%20-95.29549%5D%2C%20%5B38.788959999999996%2C%20-104.75746%5D%2C%20%5B33.852790999999996%2C%20-81.009167%5D%2C%20%5B45.404699%2C%20-122.623244%5D%2C%20%5B32.766063%2C%20-96.895336%5D%2C%20%5B45.47929%2C%20-122.79166000000001%5D%2C%20%5B34.361968%2C%20-119.447399%5D%2C%20%5B44.012593%2C%20-121.32068000000001%5D%2C%20%5B37.492982%2C%20-120.994565%5D%2C%20%5B42.384631%2C%20-87.96333%5D%2C%20%5B35.59299%2C%20-106.05901000000001%5D%2C%20%5B32.920542%2C%20-96.818529%5D%2C%20%5B27.462311%2C%20-82.57539799999999%5D%2C%20%5B42.787516%2C%20-124.494294%5D%2C%20%5B33.829338%2C%20-117.515321%5D%2C%20%5B40.13365%2C%20-75.18871%5D%2C%20%5B38.000336%2C%20-121.260314%5D%2C%20%5B38.605519%2C%20-122.59540700000001%5D%2C%20%5B42.385187%2C%20-87.962726%5D%2C%20%5B27.989759999999997%2C%20-82.46206%5D%2C%20%5B30.495649%2C%20-87.20919%5D%2C%20%5B33.88413%2C%20-118.02887%5D%2C%20%5B36.75339%2C%20-119.724675%5D%2C%20%5B42.26515%2C%20-85.18356%5D%2C%20%5B37.76384%2C%20-121.41842%5D%2C%20%5B38.899079%2C%20-121.076148%5D%2C%20%5B38.662172%2C%20-120.93983%5D%2C%20%5B34.03093%2C%20-117.328346%5D%2C%20%5B44.948440000000005%2C%20-123.26414%5D%2C%20%5B39.049004%2C%20-94.646927%5D%2C%20%5B34.019768%2C%20-117.958281%5D%2C%20%5B42.35334%2C%20-88.39443%5D%2C%20%5B33.66478%2C%20-84.41932%5D%2C%20%5B28.55275%2C%20-81.4325%5D%2C%20%5B41.49505%2C%20-81.60275%5D%2C%20%5B32.924662%2C%20-96.788638%5D%2C%20%5B36.007433%2C%20-119.43371299999998%5D%2C%20%5B38.963102%2C%20-94.726338%5D%2C%20%5B40.845721999999995%2C%20-73.929606%5D%2C%20%5B37.692879%2C%20-122.08972299999999%5D%2C%20%5B36.15361%2C%20-86.84664000000001%5D%2C%20%5B28.909075%2C%20-82.022439%5D%2C%20%5B26.848934999999997%2C%20-80.107743%5D%2C%20%5B38.896532%2C%20-77.914826%5D%2C%20%5B42.319453%2C%20-87.86648100000001%5D%2C%20%5B25.598565%2C%20-80.35525200000001%5D%2C%20%5B35.332174%2C%20-80.825701%5D%2C%20%5B34.018512%2C%20-118.14830800000001%5D%2C%20%5B39.314732%2C%20-120.20391299999999%5D%2C%20%5B43.17517%2C%20-77.6395%5D%2C%20%5B45.432990000000004%2C%20-123.13891000000001%5D%2C%20%5B37.22785%2C%20-113.37572%5D%2C%20%5B41.226131%2C%20-95.94976%5D%2C%20%5B37.965778%2C%20-122.049103%5D%2C%20%5B34.00046%2C%20-118.17511%5D%2C%20%5B39.311218%2C%20-120.546843%5D%2C%20%5B47.6986%2C%20-116.78777%5D%2C%20%5B36.140974%2C%20-120.16200900000001%5D%2C%20%5B28.449840000000002%2C%20-81.40085%5D%2C%20%5B40.51078%2C%20-74.3855%5D%2C%20%5B30.031308000000003%2C%20-89.92732099999999%5D%2C%20%5B38.78399%2C%20-77.13592%5D%2C%20%5B33.146190000000004%2C%20-117.288803%5D%2C%20%5B37.99042%2C%20-122.06747%5D%2C%20%5B41.10972%2C%20-73.40349%5D%2C%20%5B33.8772%2C%20-118.14545%5D%2C%20%5B41.865970000000004%2C%20-87.64442%5D%2C%20%5B40.022908%2C%20-76.264678%5D%2C%20%5B40.73852%2C%20-73.80653000000001%5D%2C%20%5B36.074587%2C%20-86.92050400000001%5D%2C%20%5B35.790403000000005%2C%20-119.25090700000001%5D%2C%20%5B40.844796%2C%20-73.905512%5D%2C%20%5B25.774043%2C%20-80.320647%5D%2C%20%5B36.136689000000004%2C%20-120.33035500000001%5D%2C%20%5B40.74358%2C%20-73.77444399999999%5D%2C%20%5B31.6398%2C%20-103.64553000000001%5D%2C%20%5B33.387335%2C%20-117.58663999999999%5D%2C%20%5B33.677989000000004%2C%20-117.758206%5D%2C%20%5B40.72507%2C%20-111.7711%5D%2C%20%5B44.896640000000005%2C%20-93.35008%5D%2C%20%5B45.17798%2C%20-93.30676600000001%5D%2C%20%5B40.159009999999995%2C%20-75.20121%5D%2C%20%5B27.96112%2C%20-82.69816%5D%2C%20%5B38.503774%2C%20-90.3402%5D%2C%20%5B43.06228%2C%20-89.30926%5D%2C%20%5B27.87368%2C%20-80.59146%5D%2C%20%5B35.262159999999994%2C%20-80.77315%5D%2C%20%5B35.91855%2C%20-78.54652%5D%2C%20%5B35.154701%2C%20-80.970117%5D%2C%20%5B40.155791%2C%20-74.104596%5D%2C%20%5B46.83313%2C%20-95.85616%5D%2C%20%5B37.781236%2C%20-122.23876899999999%5D%2C%20%5B45.710324%2C%20-121.496697%5D%2C%20%5B36.7393%2C%20-119.777723%5D%2C%20%5B42.912728%2C%20-85.637247%5D%2C%20%5B45.01045%2C%20-93.08954200000001%5D%2C%20%5B34.718778%2C%20-80.81734300000001%5D%2C%20%5B33.726595%2C%20-117.98078000000001%5D%2C%20%5B34.222747999999996%2C%20-80.699043%5D%2C%20%5B35.00404%2C%20-85.2176%5D%2C%20%5B25.9275%2C%20-80.21721%5D%2C%20%5B28.537059999999997%2C%20-81.36806999999999%5D%2C%20%5B45.013888%2C%20-117.917373%5D%2C%20%5B33.653191%2C%20-84.006097%5D%2C%20%5B26.087218%2C%20-80.362898%5D%2C%20%5B38.6316%2C%20-90.30303%5D%2C%20%5B34.130266%2C%20-118.07325300000001%5D%2C%20%5B43.35718%2C%20-89.00133000000001%5D%2C%20%5B37.496154%2C%20-119.980483%5D%2C%20%5B37.4602%2C%20-77.65434%5D%2C%20%5B35.325896%2C%20-80.945717%5D%2C%20%5B45.656563%2C%20-111.08339699999999%5D%2C%20%5B45.53816%2C%20-122.669575%5D%2C%20%5B29.738186%2C%20-95.442627%5D%2C%20%5B43.28808%2C%20-77.79294%5D%2C%20%5B38.34383%2C%20-85.6951%5D%2C%20%5B34.379721999999994%2C%20-118.57072099999999%5D%2C%20%5B34.032385999999995%2C%20-118.028512%5D%2C%20%5B38.796141%2C%20-77.17054300000001%5D%2C%20%5B37.403%2C%20-122.04683%5D%2C%20%5B43.59395%2C%20-121.56633000000001%5D%2C%20%5B34.055739%2C%20-118.45223899999999%5D%2C%20%5B39.88467%2C%20-75.10392%5D%2C%20%5B42.37943%2C%20-83.19332%5D%2C%20%5B37.767668%2C%20-122.39585100000001%5D%2C%20%5B42.34398%2C%20-123.567277%5D%2C%20%5B42.172463%2C%20-121.79804299999999%5D%2C%20%5B37.257293%2C%20-76.64508599999999%5D%2C%20%5B26.62247%2C%20-81.87223%5D%2C%20%5B34.606128000000005%2C%20-118.148335%5D%2C%20%5B32.93502%2C%20-96.75206999999999%5D%2C%20%5B34.054764%2C%20-117.299217%5D%2C%20%5B33.041049%2C%20-117.074432%5D%2C%20%5B33.576977%2C%20-81.746126%5D%2C%20%5B38.618559999999995%2C%20-90.19079%5D%2C%20%5B40.939232000000004%2C%20-74.591921%5D%2C%20%5B33.979440000000004%2C%20-118.28036000000002%5D%2C%20%5B44.048190999999996%2C%20-123.17708799999998%5D%2C%20%5B29.62132%2C%20-95.18252%5D%2C%20%5B28.34478%2C%20-81.36385%5D%2C%20%5B34.067721999999996%2C%20-117.594495%5D%2C%20%5B32.908482%2C%20-96.897015%5D%2C%20%5B33.62927%2C%20-78.96259%5D%2C%20%5B42.24845%2C%20-120.31408%5D%2C%20%5B45.1424%2C%20-93.26671%5D%2C%20%5B35.126835%2C%20-80.87759799999999%5D%2C%20%5B34.239167%2C%20-119.180833%5D%2C%20%5B39.95278%2C%20-83.01775%5D%2C%20%5B38.988064%2C%20-94.552234%5D%2C%20%5B40.46537%2C%20-83.80976%5D%2C%20%5B34.064882%2C%20-117.315405%5D%2C%20%5B47.273014%2C%20-122.30611499999999%5D%2C%20%5B45.07925%2C%20-93.01549%5D%2C%20%5B37.35245%2C%20-121.96868%5D%2C%20%5B41.772683%2C%20-124.20044399999999%5D%2C%20%5B35.46047%2C%20-97.64997%5D%2C%20%5B34.22331%2C%20-80.34432%5D%2C%20%5B37.201575%2C%20-76.57080699999999%5D%2C%20%5B37.718489%2C%20-121.696816%5D%2C%20%5B32.897748%2C%20-80.648087%5D%2C%20%5B37.314945%2C%20-119.65671599999999%5D%2C%20%5B25.764384%2C%20-80.33629300000001%5D%2C%20%5B38.64935%2C%20-77.2611%5D%2C%20%5B32.766529999999996%2C%20-96.90511%5D%2C%20%5B26.46674%2C%20-80.08927%5D%2C%20%5B34.616622%2C%20-118.04096899999999%5D%2C%20%5B34.303891%2C%20-117.46323100000001%5D%2C%20%5B32.478621999999994%2C%20-90.393136%5D%2C%20%5B26.745989%2C%20-81.917908%5D%2C%20%5B33.869029%2C%20-117.75348500000001%5D%2C%20%5B36.768676%2C%20-119.76295%5D%2C%20%5B33.750761%2C%20-84.381362%5D%2C%20%5B25.848423%2C%20-80.239784%5D%2C%20%5B40.886024%2C%20-78.234778%5D%2C%20%5B33.971509999999995%2C%20-81.29902%5D%2C%20%5B41.90095%2C%20-73.15522800000001%5D%2C%20%5B45.03516%2C%20-93.19071%5D%2C%20%5B34.071745%2C%20-117.87699199999999%5D%2C%20%5B34.577137%2C%20-119.978279%5D%2C%20%5B33.94583%2C%20-118.09411999999999%5D%2C%20%5B33.21952%2C%20-112.069%5D%2C%20%5B39.831332%2C%20-86.27597%5D%2C%20%5B43.55298%2C%20-70.42585%5D%2C%20%5B28.56806%2C%20-81.37566%5D%2C%20%5B45.67835%2C%20-118.85287%5D%2C%20%5B36.657790000000006%2C%20-79.87934%5D%2C%20%5B30.431040000000003%2C%20-91.05256%5D%2C%20%5B29.16855%2C%20-81.08292%5D%2C%20%5B34.032971999999994%2C%20-118.13793100000001%5D%2C%20%5B32.76758%2C%20-96.89079%5D%2C%20%5B39.101932%2C%20-121.63456799999999%5D%2C%20%5B28.75185%2C%20-81.87784%5D%2C%20%5B34.867251%2C%20-82.237026%5D%2C%20%5B37.421399%2C%20-122.20401799999999%5D%2C%20%5B25.89509%2C%20-80.20942%5D%2C%20%5B39.868359999999996%2C%20-84.92064%5D%2C%20%5B33.723723%2C%20-80.650947%5D%2C%20%5B36.24037%2C%20-115.24343999999999%5D%2C%20%5B33.41872%2C%20-82.02251%5D%2C%20%5B37.56322%2C%20-122.03991%5D%2C%20%5B40.79562%2C%20-73.82567%5D%2C%20%5B43.079152%2C%20-75.316063%5D%2C%20%5B38.09084%2C%20-122.22752%5D%2C%20%5B39.203403%2C%20-84.372869%5D%2C%20%5B32.782634%2C%20-96.812585%5D%2C%20%5B33.423188%2C%20-111.926369%5D%2C%20%5B25.631644%2C%20-80.41476800000001%5D%2C%20%5B37.44797%2C%20-121.92153%5D%2C%20%5B38.242732000000004%2C%20-77.501775%5D%2C%20%5B29.7379%2C%20-95.47654%5D%2C%20%5B34.281495%2C%20-118.713895%5D%2C%20%5B35.872917%2C%20-78.67949499999999%5D%2C%20%5B41.364278999999996%2C%20-96.408565%5D%2C%20%5B33.877947999999996%2C%20-79.767454%5D%2C%20%5B38.269079999999995%2C%20-77.945482%5D%2C%20%5B33.42946%2C%20-112.09347%5D%2C%20%5B36.008309999999994%2C%20-80.4381%5D%2C%20%5B42.292770000000004%2C%20-83.84294%5D%2C%20%5B40.89269%2C%20-74.41542%5D%2C%20%5B32.676435999999995%2C%20-116.985629%5D%2C%20%5B41.17276%2C%20-112.01563999999999%5D%2C%20%5B30.02648%2C%20-90.00938000000001%5D%2C%20%5B43.197777%2C%20-70.644778%5D%2C%20%5B45.47845%2C%20-122.64142%5D%2C%20%5B44.052461%2C%20-123.100444%5D%2C%20%5B35.496321%2C%20-82.565166%5D%2C%20%5B34.282096%2C%20-118.775006%5D%2C%20%5B33.945040000000006%2C%20-118.0993%5D%2C%20%5B25.8444%2C%20-80.20666999999999%5D%2C%20%5B42.628370000000004%2C%20-124.39878%5D%2C%20%5B34.085614%2C%20-117.68906899999999%5D%2C%20%5B39.631370000000004%2C%20-105.15955%5D%2C%20%5B35.964359%2C%20-85.239533%5D%2C%20%5B37.209444%2C%20-121.7225%5D%2C%20%5B26.457259999999998%2C%20-80.08934%5D%2C%20%5B40.151920000000004%2C%20-80.2027%5D%2C%20%5B37.49543%2C%20-121.95228999999999%5D%2C%20%5B34.426915%2C%20-119.096571%5D%2C%20%5B32.898291%2C%20-96.46623699999999%5D%2C%20%5B40.138847999999996%2C%20-75.385409%5D%2C%20%5B34.076124%2C%20-117.62099099999999%5D%2C%20%5B47.116543%2C%20-122.29328000000001%5D%2C%20%5B39.78696%2C%20-86.13484%5D%2C%20%5B34.135906%2C%20-117.38533999999999%5D%2C%20%5B44.651301000000004%2C%20-123.83091200000001%5D%2C%20%5B28.812131%2C%20-80.963201%5D%2C%20%5B38.698112%2C%20-78.44538399999999%5D%2C%20%5B38.239571000000005%2C%20-122.621276%5D%2C%20%5B36.797429%2C%20-119.785449%5D%2C%20%5B41.63289%2C%20-90.864361%5D%2C%20%5B34.050565%2C%20-118.214083%5D%2C%20%5B40.056709999999995%2C%20-75.65715%5D%2C%20%5B33.976440000000004%2C%20-118.12546%5D%2C%20%5B33.73747%2C%20-117.98929%5D%2C%20%5B33.93807%2C%20-118.09836000000001%5D%2C%20%5B34.076%2C%20-118.23154199999999%5D%2C%20%5B38.069888%2C%20-85.69997%5D%2C%20%5B28.527897999999997%2C%20-81.378141%5D%2C%20%5B37.517499%2C%20-77.208957%5D%2C%20%5B34.005720000000004%2C%20-117.96019%5D%2C%20%5B39.21127%2C%20-84.58431%5D%2C%20%5B34.055890999999995%2C%20-117.409471%5D%2C%20%5B33.902268%2C%20-118.06223500000002%5D%2C%20%5B33.006873%2C%20-80.187538%5D%2C%20%5B40.7014%2C%20-73.98862%5D%2C%20%5B34.05819%2C%20-118.25402%5D%2C%20%5B40.351228000000006%2C%20-74.473065%5D%2C%20%5B25.702173000000002%2C%20-80.3359%5D%2C%20%5B37.75254%2C%20-122.40301000000001%5D%2C%20%5B48.269181%2C%20-121.693655%5D%2C%20%5B34.154405%2C%20-118.384235%5D%2C%20%5B47.194624%2C%20-122.46247199999999%5D%2C%20%5B34.106737%2C%20-117.885425%5D%2C%20%5B31.829963%2C%20-106.30469199999999%5D%2C%20%5B41.96953%2C%20-87.75901%5D%2C%20%5B43.18593%2C%20-121.78143%5D%2C%20%5B37.48768%2C%20-122.20653%5D%2C%20%5B35.28952%2C%20-80.96406%5D%2C%20%5B34.048171%2C%20-117.550129%5D%2C%20%5B34.05754%2C%20-118.25466000000002%5D%2C%20%5B29.778275%2C%20-95.37224599999999%5D%2C%20%5B40.601067%2C%20-75.556719%5D%2C%20%5B39.741690000000006%2C%20-84.20477%5D%2C%20%5B29.784470000000002%2C%20-95.58766999999999%5D%2C%20%5B28.4337%2C%20-82.508473%5D%2C%20%5B33.84722%2C%20-118.28509%5D%2C%20%5B42.53972%2C%20-82.90921999999999%5D%2C%20%5B38.03838%2C%20-122.26775%5D%2C%20%5B26.027202%2C%20-80.16626099999999%5D%2C%20%5B41.9244%2C%20-91.507947%5D%2C%20%5B38.524418%2C%20-77.36676999999999%5D%2C%20%5B33.67828%2C%20-84.31775999999999%5D%2C%20%5B40.18877%2C%20-77.45777%5D%2C%20%5B34.892520000000005%2C%20-82.29491999999999%5D%2C%20%5B44.35901%2C%20-124.09236000000001%5D%2C%20%5B33.56755%2C%20-84.53582%5D%2C%20%5B37.405339%2C%20-122.056326%5D%2C%20%5B29.784609999999997%2C%20-95.522988%5D%2C%20%5B34.144788%2C%20-117.273591%5D%2C%20%5B37.772948%2C%20-122.40655%5D%2C%20%5B45.571000000000005%2C%20-117.90643%5D%2C%20%5B29.252059999999997%2C%20-81.11414%5D%2C%20%5B28.190419%2C%20-81.722532%5D%2C%20%5B34.061341%2C%20-117.78928%5D%2C%20%5B33.497009999999996%2C%20-117.14843%5D%2C%20%5B47.60968%2C%20-122.33469%5D%2C%20%5B30.390309000000002%2C%20-97.703248%5D%2C%20%5B43.375593%2C%20-76.450066%5D%2C%20%5B42.39755%2C%20-71.60774%5D%2C%20%5B34.05875%2C%20-118.2452%5D%2C%20%5B39.76038%2C%20-105.00582%5D%2C%20%5B41.67774%2C%20-83.51573%5D%2C%20%5B41.40506%2C%20-73.93168%5D%2C%20%5B25.784470000000002%2C%20-80.29346%5D%2C%20%5B41.420055%2C%20-77.034336%5D%2C%20%5B26.431487%2C%20-81.779844%5D%2C%20%5B41.6227%2C%20-83.54186%5D%2C%20%5B33.192903%2C%20-117.245623%5D%2C%20%5B40.61152%2C%20-74.15302%5D%2C%20%5B40.588678%2C%20-80.099183%5D%2C%20%5B30.010176%2C%20-90.018043%5D%2C%20%5B41.08188%2C%20-73.82834%5D%2C%20%5B37.3536%2C%20-77.3966%5D%2C%20%5B36.695066%2C%20-119.76187900000001%5D%2C%20%5B37.909515999999996%2C%20-79.259737%5D%2C%20%5B39.981285%2C%20-75.10273000000001%5D%2C%20%5B34.0273%2C%20-118.45763000000001%5D%2C%20%5B38.55177%2C%20-121.69917%5D%2C%20%5B41.89991%2C%20-83.37323%5D%2C%20%5B33.245253999999996%2C%20-117.15236499999999%5D%2C%20%5B35.26692%2C%20-80.84424%5D%2C%20%5B38.562208%2C%20-121.487224%5D%2C%20%5B28.533192%2C%20-81.310423%5D%2C%20%5B45.634063%2C%20-121.211546%5D%2C%20%5B38.882896%2C%20-77.013359%5D%2C%20%5B39.75513%2C%20-84.16614%5D%2C%20%5B28.469452%2C%20-81.456981%5D%2C%20%5B45.539156%2C%20-122.244433%5D%2C%20%5B28.278796999999997%2C%20-81.343427%5D%2C%20%5B27.871731%2C%20-82.325879%5D%2C%20%5B36.239020000000004%2C%20-86.75508%5D%2C%20%5B45.674983000000005%2C%20-111.01011799999999%5D%2C%20%5B34.139834%2C%20-117.25239599999999%5D%2C%20%5B40.496812%2C%20-78.61819%5D%2C%20%5B36.747859000000005%2C%20-119.82288600000001%5D%2C%20%5B34.05444%2C%20-118.00435%5D%2C%20%5B39.8115%2C%20-86.16938%5D%2C%20%5B37.38299%2C%20-120.60901000000001%5D%2C%20%5B38.580954999999996%2C%20-121.30413899999999%5D%2C%20%5B37.429284%2C%20-120.774569%5D%2C%20%5B34.08005%2C%20-81.15503000000001%5D%2C%20%5B40.730979999999995%2C%20-73.87383%5D%2C%20%5B35.934605%2C%20-78.812473%5D%2C%20%5B28.493840000000002%2C%20-81.45908%5D%2C%20%5B38.00343%2C%20-122.04281%5D%2C%20%5B37.63689%2C%20-121.88416000000001%5D%2C%20%5B42.385259999999995%2C%20-87.96332%5D%2C%20%5B34.007690000000004%2C%20-118.28098999999999%5D%2C%20%5B40.898229%2C%20-78.216971%5D%2C%20%5B42.589563%2C%20-113.32323400000001%5D%2C%20%5B40.847091999999996%2C%20-73.933364%5D%2C%20%5B37.768856%2C%20-77.461765%5D%2C%20%5B33.00385%2C%20-96.70051%5D%2C%20%5B34.314175%2C%20-117.477332%5D%2C%20%5B39.73466%2C%20-105.1656%5D%2C%20%5B30.487543%2C%20-84.41882700000001%5D%2C%20%5B33.920685%2C%20-117.43175600000001%5D%2C%20%5B33.778441%2C%20-117.896977%5D%2C%20%5B43.94887%2C%20-94.8503%5D%2C%20%5B36.17492%2C%20-86.77138199999999%5D%2C%20%5B33.765570000000004%2C%20-80.96712%5D%2C%20%5B40.119761%2C%20-123.80096499999999%5D%2C%20%5B39.306309999999996%2C%20-76.73581999999999%5D%2C%20%5B29.996664000000003%2C%20-90.13855699999999%5D%2C%20%5B28.33629%2C%20-81.54215%5D%2C%20%5B41.27472%2C%20-73.57507%5D%2C%20%5B39.190434%2C%20-120.93093200000001%5D%2C%20%5B44.95182%2C%20-93.14649%5D%2C%20%5B43.887440000000005%2C%20-70.33841%5D%2C%20%5B39.031735%2C%20-121.51340900000001%5D%2C%20%5B29.674298999999998%2C%20-95.56665799999999%5D%2C%20%5B32.96516%2C%20-96.82166%5D%2C%20%5B47.46754%2C%20-122.2223%5D%2C%20%5B40.221866999999996%2C%20-78.936583%5D%2C%20%5B45.54869%2C%20-122.67858999999999%5D%2C%20%5B34.07245%2C%20-117.94126999999999%5D%2C%20%5B39.09393%2C%20-94.68078%5D%2C%20%5B36.359352%2C%20-76.971985%5D%2C%20%5B45.167392%2C%20-121.11215700000001%5D%2C%20%5B40.7183%2C%20-112.060052%5D%2C%20%5B44.98761%2C%20-92.96074%5D%2C%20%5B38.34597%2C%20-85.750405%5D%2C%20%5B40.167120000000004%2C%20-76.150456%5D%2C%20%5B32.9763%2C%20-117.25161000000001%5D%2C%20%5B34.511712%2C%20-117.321903%5D%2C%20%5B41.02738%2C%20-73.72782%5D%2C%20%5B29.719544%2C%20-95.612186%5D%2C%20%5B39.302240000000005%2C%20-76.71661%5D%2C%20%5B36.368479%2C%20-80.711063%5D%2C%20%5B39.787242%2C%20-76.98396%5D%2C%20%5B28.539634999999997%2C%20-81.47587800000001%5D%2C%20%5B37.449407%2C%20-77.44107199999999%5D%2C%20%5B39.755573999999996%2C%20-86.143597%5D%2C%20%5B41.8153%2C%20-87.63048%5D%2C%20%5B45.07155%2C%20-93.26332%5D%2C%20%5B38.72681%2C%20-90.32749%5D%2C%20%5B32.1341%2C%20-110.9177%5D%2C%20%5B36.93145%2C%20-121.81003%5D%2C%20%5B34.017014%2C%20-118.07893500000002%5D%2C%20%5B37.520056%2C%20-122.354542%5D%2C%20%5B28.6021%2C%20-81.5444%5D%2C%20%5B39.10925%2C%20-94.68146%5D%2C%20%5B36.21738%2C%20-95.8518%5D%2C%20%5B47.520920000000004%2C%20-122.65978%5D%2C%20%5B37.620523999999996%2C%20-120.98556200000002%5D%2C%20%5B39.099000000000004%2C%20-94.614611%5D%2C%20%5B33.755193%2C%20-117.851945%5D%2C%20%5B38.511747%2C%20-77.377127%5D%2C%20%5B34.008521%2C%20-118.20488700000001%5D%2C%20%5B38.87639%2C%20-94.52615%5D%2C%20%5B36.089859999999994%2C%20-95.90438%5D%2C%20%5B41.142720000000004%2C%20-73.42495%5D%2C%20%5B25.76002%2C%20-80.38545%5D%2C%20%5B41.59642%2C%20-72.62102%5D%2C%20%5B40.70173%2C%20-73.99109%5D%2C%20%5B34.750665999999995%2C%20-86.670988%5D%2C%20%5B41.100765%2C%20-73.437012%5D%2C%20%5B29.932609999999997%2C%20-95.41175%5D%2C%20%5B38.935471%2C%20-76.916753%5D%2C%20%5B38.08664%2C%20-121.25986999999999%5D%2C%20%5B33.86329%2C%20-84.43791999999999%5D%2C%20%5B45.73056%2C%20-122.87593999999999%5D%2C%20%5B40.481218%2C%20-123.912971%5D%2C%20%5B37.69812%2C%20-121.93978999999999%5D%2C%20%5B25.762969000000002%2C%20-80.336248%5D%2C%20%5B29.651659999999996%2C%20-95.25098%5D%2C%20%5B39.25655%2C%20-76.66425%5D%2C%20%5B33.87533%2C%20-118.10443000000001%5D%2C%20%5B40.273145%2C%20-75.24098000000001%5D%2C%20%5B36.903859000000004%2C%20-121.639155%5D%2C%20%5B25.477652%2C%20-80.439667%5D%2C%20%5B33.968311%2C%20-117.84893100000001%5D%2C%20%5B39.27445%2C%20-76.55281%5D%2C%20%5B26.07641%2C%20-80.16853%5D%2C%20%5B34.07029%2C%20-117.86429%5D%2C%20%5B34.239129999999996%2C%20-118.47313%5D%2C%20%5B42.840959000000005%2C%20-83.736564%5D%2C%20%5B39.932552%2C%20-111.161616%5D%2C%20%5B35.604459999999996%2C%20-97.42824%5D%2C%20%5B39.015337%2C%20-77.005115%5D%2C%20%5B45.50314%2C%20-122.67346%5D%2C%20%5B44.9557%2C%20-92.98469%5D%2C%20%5B33.9313%2C%20-118.28093999999999%5D%2C%20%5B36.10941%2C%20-79.79099000000001%5D%2C%20%5B35.901740000000004%2C%20-78.76545%5D%2C%20%5B40.56685%2C%20-111.8995%5D%2C%20%5B34.347991%2C%20-82.069161%5D%2C%20%5B41.885687%2C%20-93.570975%5D%2C%20%5B32.731243%2C%20-117.15469399999999%5D%2C%20%5B33.932429%2C%20-79.61236%5D%2C%20%5B33.937241%2C%20-118.09408%5D%2C%20%5B37.25404%2C%20-121.9476%5D%2C%20%5B32.89351%2C%20-96.75336%5D%2C%20%5B42.67241%2C%20-73.75673%5D%2C%20%5B37.68294%2C%20-122.12693999999999%5D%2C%20%5B43.540544%2C%20-119.45874199999999%5D%2C%20%5B29.562513%2C%20-81.637047%5D%2C%20%5B40.17194%2C%20-110.33722%5D%2C%20%5B33.921006%2C%20-116.80544599999999%5D%2C%20%5B40.689979%2C%20-73.631926%5D%2C%20%5B37.54175%2C%20-77.39057%5D%2C%20%5B39.367136%2C%20-76.650741%5D%2C%20%5B40.742611%2C%20-111.88823000000001%5D%2C%20%5B43.089752000000004%2C%20-87.92181%5D%2C%20%5B36.593956%2C%20-121.872867%5D%2C%20%5B37.048031%2C%20-119.432%5D%2C%20%5B40.556103%2C%20-111.42476599999999%5D%2C%20%5B45.565824%2C%20-122.93144%5D%2C%20%5B36.639762%2C%20-78.137274%5D%2C%20%5B43.235717%2C%20-75.42833900000001%5D%2C%20%5B44.926911%2C%20-93.274551%5D%2C%20%5B40.71826%2C%20-111.87391000000001%5D%2C%20%5B41.06926%2C%20-73.95024000000001%5D%2C%20%5B34.57226%2C%20-111.88917%5D%2C%20%5B41.139416%2C%20-111.820705%5D%2C%20%5B25.99067%2C%20-80.16601999999999%5D%2C%20%5B37.792623%2C%20-121.189947%5D%2C%20%5B35.123929%2C%20-85.235598%5D%2C%20%5B44.63389%2C%20-87.78088000000001%5D%2C%20%5B39.62401%2C%20-104.894741%5D%2C%20%5B25.884512%2C%20-80.32384300000001%5D%2C%20%5B37.732295%2C%20-122.41420600000001%5D%2C%20%5B39.323240000000006%2C%20-77.35665%5D%2C%20%5B38.865059%2C%20-77.33048000000001%5D%2C%20%5B40.718413%2C%20-73.58064%5D%2C%20%5B33.789559999999994%2C%20-118.0892%5D%2C%20%5B40.1966%2C%20-75.2093%5D%2C%20%5B33.994228%2C%20-117.88854099999999%5D%2C%20%5B25.90939%2C%20-80.20987%5D%2C%20%5B27.13167%2C%20-80.353435%5D%2C%20%5B28.652681%2C%20-81.808511%5D%2C%20%5B39.54789%2C%20-107.78328%5D%2C%20%5B32.760892%2C%20-117.16771399999999%5D%2C%20%5B33.99088%2C%20-84.5512%5D%2C%20%5B32.71206%2C%20-117.101372%5D%2C%20%5B40.776401%2C%20-74.221757%5D%2C%20%5B34.297783%2C%20-83.407022%5D%2C%20%5B37.25886%2C%20-80.17206999999999%5D%2C%20%5B47.212790000000005%2C%20-123.10011999999999%5D%2C%20%5B36.178971999999995%2C%20-86.773668%5D%2C%20%5B45.494690000000006%2C%20-122.87518%5D%2C%20%5B30.03108%2C%20-89.92761999999999%5D%2C%20%5B45.92263%2C%20-88.25780999999999%5D%2C%20%5B38.297277%2C%20-81.748162%5D%2C%20%5B38.605540000000005%2C%20-122.59536999999999%5D%2C%20%5B41.484559999999995%2C%20-112.05305%5D%2C%20%5B25.671943%2C%20-80.38399100000001%5D%2C%20%5B33.928495%2C%20-118.28190900000001%5D%2C%20%5B42.866279999999996%2C%20-73.88808%5D%2C%20%5B46.8637%2C%20-92.32533000000001%5D%2C%20%5B34.015691%2C%20-117.329031%5D%2C%20%5B46.23506%2C%20-123.87196000000002%5D%2C%20%5B40.80823%2C%20-73.28299%5D%2C%20%5B29.494071999999996%2C%20-98.55481400000001%5D%2C%20%5B39.009170000000005%2C%20-77.36514%5D%2C%20%5B38.635329999999996%2C%20-75.70791%5D%2C%20%5B40.7257%2C%20-73.53895%5D%2C%20%5B33.6296%2C%20-111.89023999999999%5D%2C%20%5B40.81555%2C%20-73.83626%5D%2C%20%5B25.895656%2C%20-80.20942%5D%2C%20%5B30.123517%2C%20-95.442657%5D%2C%20%5B37.86125%2C%20-122.03305%5D%2C%20%5B25.712548%2C%20-80.382427%5D%2C%20%5B48.04373%2C%20-122.18111%5D%2C%20%5B40.272431%2C%20-76.877314%5D%2C%20%5B38.104907%2C%20-77.090884%5D%2C%20%5B40.17821%2C%20-76.60087%5D%2C%20%5B37.51028%2C%20-121.97122%5D%2C%20%5B47.535790000000006%2C%20-122.29673000000001%5D%2C%20%5B32.254053000000006%2C%20-110.96338899999999%5D%2C%20%5B41.673379%2C%20-72.821258%5D%2C%20%5B41.037636%2C%20-73.949393%5D%2C%20%5B42.91823%2C%20-78.90079%5D%2C%20%5B37.679864%2C%20-122.125651%5D%2C%20%5B28.57695%2C%20-81.451387%5D%2C%20%5B26.01175%2C%20-80.14423000000001%5D%2C%20%5B33.85991%2C%20-118.30502%5D%2C%20%5B39.84108%2C%20-83.089637%5D%2C%20%5B38.671352%2C%20-121.58609299999999%5D%2C%20%5B35.082801%2C%20-109.71245900000001%5D%2C%20%5B33.562746000000004%2C%20-117.672794%5D%2C%20%5B38.709382%2C%20-121.330648%5D%2C%20%5B41.186816%2C%20-73.86262099999999%5D%2C%20%5B37.62446%2C%20-122.42863%5D%2C%20%5B30.49302%2C%20-97.67809%5D%2C%20%5B38.30406%2C%20-85.88626%5D%2C%20%5B38.57526%2C%20-121.57196%5D%2C%20%5B38.793479999999995%2C%20-76.67187%5D%2C%20%5B33.576482%2C%20-111.889261%5D%2C%20%5B45.220009999999995%2C%20-93.42938000000001%5D%2C%20%5B36.489208000000005%2C%20-119.629121%5D%2C%20%5B39.11396%2C%20-108.60008%5D%2C%20%5B34.119658%2C%20-117.80720500000001%5D%2C%20%5B37.471032%2C%20-122.202873%5D%2C%20%5B47.52262%2C%20-122.33485%5D%2C%20%5B25.890318%2C%20-80.163545%5D%2C%20%5B35.942921000000005%2C%20-87.298047%5D%2C%20%5B45.36412%2C%20-121.56777%5D%2C%20%5B33.936282%2C%20-118.226644%5D%2C%20%5B25.732779999999998%2C%20-80.35173%5D%2C%20%5B33.8435%2C%20-84.50107%5D%2C%20%5B29.986328000000004%2C%20-81.463004%5D%2C%20%5B38.311842999999996%2C%20-77.476267%5D%2C%20%5B32.760337%2C%20-117.19256100000001%5D%2C%20%5B34.509240000000005%2C%20-118.11112299999999%5D%2C%20%5B34.270489000000005%2C%20-118.341943%5D%2C%20%5B36.95465%2C%20-76.26429%5D%2C%20%5B41.84945%2C%20-87.85243%5D%2C%20%5B34.06765%2C%20-117.57186999999999%5D%2C%20%5B33.897259999999996%2C%20-81.25358%5D%2C%20%5B42.31913%2C%20-83.16642%5D%2C%20%5B45.49199%2C%20-122.786795%5D%2C%20%5B34.724738%2C%20-92.286689%5D%2C%20%5B38.406197999999996%2C%20-81.58314399999999%5D%2C%20%5B33.96803%2C%20-118.37183%5D%2C%20%5B45.79065%2C%20-119.36696200000002%5D%2C%20%5B33.853809000000005%2C%20-117.91580400000001%5D%2C%20%5B34.085135%2C%20-117.30090200000001%5D%2C%20%5B34.323640000000005%2C%20-118.46463%5D%2C%20%5B41.90605%2C%20-113.10338999999999%5D%2C%20%5B43.157140000000005%2C%20-77.6064%5D%2C%20%5B32.1257%2C%20-110.82404%5D%2C%20%5B33.336388%2C%20-87.56679799999999%5D%2C%20%5B42.30557%2C%20-87.959838%5D%2C%20%5B43.031681%2C%20-83.664176%5D%2C%20%5B38.64304%2C%20-121.12191000000001%5D%2C%20%5B42.357079999999996%2C%20-88.04434%5D%2C%20%5B25.865281%2C%20-80.387681%5D%2C%20%5B37.552996%2C%20-77.443946%5D%2C%20%5B37.073696999999996%2C%20-122.08447%5D%2C%20%5B39.513040000000004%2C%20-119.92863999999999%5D%2C%20%5B36.540285%2C%20-119.835613%5D%2C%20%5B40.209097%2C%20-75.279794%5D%2C%20%5B29.90718%2C%20-95.6084%5D%2C%20%5B40.677620000000005%2C%20-89.57893%5D%2C%20%5B32.23578%2C%20-110.9779%5D%2C%20%5B39.642428%2C%20-75.818649%5D%2C%20%5B43.497040999999996%2C%20-124.21870600000001%5D%2C%20%5B37.680638%2C%20-121.34344399999999%5D%2C%20%5B33.880151%2C%20-117.56524399999999%5D%2C%20%5B29.769609999999997%2C%20-95.26541%5D%2C%20%5B25.811566%2C%20-80.370885%5D%2C%20%5B40.114337%2C%20-75.438365%5D%2C%20%5B34.070186%2C%20-117.488845%5D%2C%20%5B37.356895%2C%20-121.869009%5D%2C%20%5B36.750376%2C%20-119.722756%5D%2C%20%5B43.774155%2C%20-123.059824%5D%2C%20%5B45.507258%2C%20-122.718953%5D%2C%20%5B30.087164%2C%20-90.43770400000001%5D%2C%20%5B34.068290000000005%2C%20-118.03763000000001%5D%2C%20%5B35.00633%2C%20-85.20756%5D%2C%20%5B38.896633%2C%20-77.06800799999999%5D%2C%20%5B45.685559999999995%2C%20-118.91205%5D%2C%20%5B34.082133%2C%20-118.704535%5D%2C%20%5B35.14714%2C%20-80.72443%5D%2C%20%5B33.72675%2C%20-84.32383%5D%2C%20%5B32.778890000000004%2C%20-117.06143%5D%2C%20%5B44.97515%2C%20-93.2871%5D%2C%20%5B37.783169%2C%20-121.22918700000001%5D%2C%20%5B39.27967%2C%20-76.72705%5D%2C%20%5B42.54853%2C%20-73.67126%5D%2C%20%5B39.189101%2C%20-78.13479699999999%5D%2C%20%5B36.84499%2C%20-76.27938%5D%2C%20%5B42.30559%2C%20-83.17829%5D%2C%20%5B40.727165%2C%20-73.374177%5D%2C%20%5B33.9111%2C%20-84.35668000000001%5D%2C%20%5B25.799207%2C%20-80.33392099999999%5D%2C%20%5B35.912428999999996%2C%20-84.12210999999999%5D%2C%20%5B34.400378%2C%20-118.572644%5D%2C%20%5B33.242405%2C%20-83.920819%5D%2C%20%5B38.801232%2C%20-77.525314%5D%2C%20%5B43.11654%2C%20-93.0163%5D%2C%20%5B29.5595%2C%20-81.22255%5D%2C%20%5B33.45867%2C%20-112.03681%5D%2C%20%5B45.5284%2C%20-122.65357%5D%2C%20%5B36.966028%2C%20-121.76496200000001%5D%2C%20%5B33.260798%2C%20-84.097874%5D%2C%20%5B34.037%2C%20-118.2198%5D%2C%20%5B43.39698%2C%20-76.25667%5D%2C%20%5B38.17018%2C%20-85.87602%5D%2C%20%5B40.40746%2C%20-104.9933%5D%2C%20%5B39.76125%2C%20-76.176388%5D%2C%20%5B35.817046000000005%2C%20-119.25861599999999%5D%2C%20%5B38.596070000000005%2C%20-121.407801%5D%2C%20%5B39.698485%2C%20-110.867774%5D%2C%20%5B33.73602%2C%20-117.99428%5D%2C%20%5B44.330462%2C%20-123.298073%5D%2C%20%5B42.19806%2C%20-87.98938000000001%5D%2C%20%5B33.743402%2C%20-84.35820600000001%5D%2C%20%5B34.116609999999994%2C%20-118.26895%5D%2C%20%5B39.983526%2C%20-75.208221%5D%2C%20%5B30.28637%2C%20-97.6773%5D%2C%20%5B33.80339%2C%20-117.87990400000001%5D%2C%20%5B40.070040000000006%2C%20-86.49723%5D%2C%20%5B33.797959999999996%2C%20-84.48786%5D%2C%20%5B32.93495%2C%20-96.75236%5D%2C%20%5B37.364038%2C%20-121.901977%5D%2C%20%5B34.269028000000006%2C%20-118.14618899999999%5D%2C%20%5B35.10468%2C%20-80.70406%5D%2C%20%5B41.86616%2C%20-87.72515%5D%2C%20%5B37.3431%2C%20-121.90141000000001%5D%2C%20%5B42.217290000000006%2C%20-121.74728%5D%2C%20%5B38.687062%2C%20-121.34261200000002%5D%2C%20%5B47.97318%2C%20-122.19157%5D%2C%20%5B39.096109999999996%2C%20-94.57719%5D%2C%20%5B38.43268%2C%20-122.71608%5D%2C%20%5B41.79003%2C%20-87.82453000000001%5D%2C%20%5B34.664133%2C%20-79.65730400000001%5D%2C%20%5B35.53438%2C%20-82.60263%5D%2C%20%5B34.291569%2C%20-118.467941%5D%2C%20%5B28.569416999999998%2C%20-81.268046%5D%2C%20%5B29.943306%2C%20-90.09281999999999%5D%2C%20%5B38.999812%2C%20-94.782795%5D%2C%20%5B39.37993%2C%20-77.40793000000001%5D%2C%20%5B40.53168%2C%20-74.34983000000001%5D%2C%20%5B41.140198999999996%2C%20-95.975996%5D%2C%20%5B44.28794%2C%20-117.21999%5D%2C%20%5B39.713485%2C%20-76.048197%5D%2C%20%5B32.518114000000004%2C%20-83.59735699999999%5D%2C%20%5B38.24558%2C%20-122.6256%5D%2C%20%5B38.770821000000005%2C%20-120.433015%5D%2C%20%5B37.338205%2C%20-121.85405300000001%5D%2C%20%5B27.993796999999997%2C%20-80.626977%5D%2C%20%5B38.415420000000005%2C%20-81.797913%5D%2C%20%5B25.705678%2C%20-80.287789%5D%2C%20%5B34.498867%2C%20-118.221938%5D%2C%20%5B41.62624%2C%20-87.6772%5D%2C%20%5B42.93293%2C%20-78.77275%5D%2C%20%5B34.065739%2C%20-117.507127%5D%2C%20%5B38.709753000000006%2C%20-121.387856%5D%2C%20%5B38.795009%2C%20-90.568488%5D%2C%20%5B45.01055%2C%20-93.08965%5D%2C%20%5B37.318415%2C%20-121.989814%5D%2C%20%5B25.77139%2C%20-80.19883%5D%2C%20%5B36.593796000000005%2C%20-121.873923%5D%2C%20%5B40.79898%2C%20-73.91903%5D%2C%20%5B40.59818%2C%20-121.53393999999999%5D%2C%20%5B33.58778%2C%20-84.50905%5D%2C%20%5B39.89962%2C%20-83.72031%5D%2C%20%5B37.550162%2C%20-77.43611700000001%5D%2C%20%5B33.461209999999994%2C%20-112.08821999999999%5D%2C%20%5B34.758672%2C%20-118.79576399999999%5D%2C%20%5B40.878925%2C%20-77.522391%5D%2C%20%5B37.42219%2C%20-121.93032%5D%2C%20%5B32.83964%2C%20-97.05601999999999%5D%2C%20%5B42.3604%2C%20-87.89491%5D%2C%20%5B42.947653%2C%20-85.659094%5D%2C%20%5B38.917322999999996%2C%20-76.976713%5D%2C%20%5B46.12616%2C%20-123.36675%5D%2C%20%5B43.021692%2C%20-124.007704%5D%2C%20%5B33.88366%2C%20-117.63936000000001%5D%2C%20%5B26.439384999999998%2C%20-80.089202%5D%2C%20%5B37.71691%2C%20-122.39822%5D%2C%20%5B34.03682%2C%20-118.37755%5D%2C%20%5B40.04003%2C%20-104.98037%5D%2C%20%5B44.945122%2C%20-93.348029%5D%2C%20%5B39.72177%2C%20-105.00899%5D%2C%20%5B38.663975%2C%20-121.225628%5D%2C%20%5B40.738437%2C%20-73.84857%5D%2C%20%5B42.19184%2C%20-121.80006999999999%5D%2C%20%5B40.646377%2C%20-111.80313999999998%5D%2C%20%5B40.076409999999996%2C%20-75.49707%5D%2C%20%5B39.16516%2C%20-104.85307%5D%2C%20%5B35.196515000000005%2C%20-120.59559899999999%5D%2C%20%5B25.888695000000002%2C%20-80.163885%5D%2C%20%5B39.907025%2C%20-74.985264%5D%2C%20%5B43.686879%2C%20-85.52039%5D%2C%20%5B41.749914000000004%2C%20-72.728316%5D%2C%20%5B41.219190000000005%2C%20-77.22129%5D%2C%20%5B34.05516%2C%20-118.18743%5D%2C%20%5B35.22898%2C%20-80.86691%5D%2C%20%5B28.672890000000002%2C%20-81.492778%5D%2C%20%5B32.76143%2C%20-117.166555%5D%2C%20%5B29.612188%2C%20-95.35544499999999%5D%2C%20%5B36.901183%2C%20-76.495775%5D%2C%20%5B41.139474%2C%20-111.85086399999999%5D%2C%20%5B40.70097%2C%20-73.99471%5D%2C%20%5B35.004471%2C%20-120.44116299999999%5D%2C%20%5B35.34153%2C%20-80.76771%5D%2C%20%5B39.801404%2C%20-85.99638%5D%2C%20%5B25.746579999999998%2C%20-80.17903000000001%5D%2C%20%5B28.5431%2C%20-81.28072%5D%2C%20%5B25.683839000000003%2C%20-80.40053499999999%5D%2C%20%5B34.936147%2C%20-119.513558%5D%2C%20%5B37.97907%2C%20-122.04341000000001%5D%2C%20%5B33.751834%2C%20-117.845975%5D%2C%20%5B38.664634%2C%20-77.274813%5D%2C%20%5B33.179669%2C%20-117.34704199999999%5D%2C%20%5B44.756159999999994%2C%20-93.01228%5D%2C%20%5B37.54781%2C%20-121.91967%5D%2C%20%5B40.442448%2C%20-114.86145800000001%5D%2C%20%5B34.276790000000005%2C%20-118.60172%5D%2C%20%5B40.712767%2C%20-80.301589%5D%2C%20%5B37.855607%2C%20-121.274317%5D%2C%20%5B44.629740000000005%2C%20-123.03255%5D%2C%20%5B35.463097%2C%20-80.58860200000001%5D%2C%20%5B40.671325%2C%20-73.801063%5D%2C%20%5B39.381130999999996%2C%20-76.739409%5D%2C%20%5B39.736382%2C%20-105.01424899999999%5D%2C%20%5B28.516044%2C%20-81.388373%5D%2C%20%5B45.482442999999996%2C%20-122.680495%5D%2C%20%5B34.017695%2C%20-118.17547900000001%5D%2C%20%5B34.218868%2C%20-118.240004%5D%2C%20%5B45.526312%2C%20-122.563648%5D%2C%20%5B34.087198%2C%20-118.234118%5D%2C%20%5B32.837094%2C%20-96.98707900000001%5D%2C%20%5B32.365645%2C%20-86.277284%5D%2C%20%5B33.465828%2C%20-112.109723%5D%2C%20%5B37.422653000000004%2C%20-77.58099399999999%5D%2C%20%5B37.606243%2C%20-77.522013%5D%2C%20%5B40.716429999999995%2C%20-73.97559%5D%2C%20%5B39.328123%2C%20-120.189828%5D%2C%20%5B33.804409%2C%20-84.393472%5D%2C%20%5B33.88138%2C%20-117.61887%5D%2C%20%5B33.568599%2C%20-80.335875%5D%2C%20%5B33.719775%2C%20-117.795048%5D%2C%20%5B33.982345%2C%20-118.295855%5D%2C%20%5B40.078829999999996%2C%20-74.74996999999999%5D%2C%20%5B25.774043%2C%20-80.320647%5D%2C%20%5B29.78503%2C%20-95.56846999999999%5D%2C%20%5B39.247439%2C%20-76.575847%5D%2C%20%5B32.09796%2C%20-81.21938%5D%2C%20%5B34.534988%2C%20-118.085425%5D%2C%20%5B32.77199%2C%20-96.79964%5D%2C%20%5B38.696329%2C%20-121.3637%5D%2C%20%5B32.96828%2C%20-117.09346000000001%5D%2C%20%5B34.067686%2C%20-118.026402%5D%2C%20%5B45.060784000000005%2C%20-123.695241%5D%2C%20%5B33.760659999999994%2C%20-84.4845%5D%2C%20%5B39.34938%2C%20-76.74538000000001%5D%2C%20%5B37.77579%2C%20-122.23513%5D%2C%20%5B43.753809999999994%2C%20-123.138355%5D%2C%20%5B25.687938%2C%20-80.41644000000001%5D%2C%20%5B38.818153%2C%20-76.909975%5D%2C%20%5B38.167203%2C%20-122.202969%5D%2C%20%5B43.044959000000006%2C%20-87.97348000000001%5D%2C%20%5B33.913270000000004%2C%20-118.13573000000001%5D%2C%20%5B39.019178000000004%2C%20-76.97631899999999%5D%2C%20%5B38.55288%2C%20-90.42205%5D%2C%20%5B44.3038%2C%20-122.02441%5D%2C%20%5B40.77983%2C%20-73.00825999999999%5D%2C%20%5B40.031958%2C%20-76.239763%5D%2C%20%5B35.396667%2C%20-118.929722%5D%2C%20%5B36.158159999999995%2C%20-86.62557%5D%2C%20%5B27.254234000000004%2C%20-80.417926%5D%2C%20%5B42.49127%2C%20-83.02775%5D%2C%20%5B33.06835%2C%20-117.29336%5D%2C%20%5B30.2274%2C%20-81.38529%5D%2C%20%5B38.32678%2C%20-122.71265%5D%2C%20%5B42.35053%2C%20-71.09515999999999%5D%2C%20%5B39.128833%2C%20-86.60498%5D%2C%20%5B34.066725%2C%20-117.213939%5D%2C%20%5B32.711776%2C%20-117.100852%5D%5D%2C%0A%20%20%20%20%20%20%20%20%20%20%20%20%20%20%20%20%7B%0A%20%20%20%20%20%20%20%20%20%20%20%20%20%20%20%20%20%20%20%20minOpacity%3A%200.5%2C%0A%20%20%20%20%20%20%20%20%20%20%20%20%20%20%20%20%20%20%20%20maxZoom%3A%2018%2C%0A%20%20%20%20%20%20%20%20%20%20%20%20%20%20%20%20%20%20%20%20max%3A%201.0%2C%0A%20%20%20%20%20%20%20%20%20%20%20%20%20%20%20%20%20%20%20%20radius%3A%2025%2C%0A%20%20%20%20%20%20%20%20%20%20%20%20%20%20%20%20%20%20%20%20blur%3A%2015%2C%0A%20%20%20%20%20%20%20%20%20%20%20%20%20%20%20%20%20%20%20%20gradient%3A%20null%0A%20%20%20%20%20%20%20%20%20%20%20%20%20%20%20%20%20%20%20%20%7D%29%0A%20%20%20%20%20%20%20%20%20%20%20%20%20%20%20%20.addTo%28map_50ce3d9b00da4d868a48a89232715f6a%29%3B%0A%20%20%20%20%20%20%20%20%0A%3C/script%3E onload=\"this.contentDocument.open();this.contentDocument.write(    decodeURIComponent(this.getAttribute('data-html')));this.contentDocument.close();\" allowfullscreen webkitallowfullscreen mozallowfullscreen></iframe></div></div>"
            ],
            "text/plain": [
              "<folium.folium.Map at 0x7f6777b3d510>"
            ]
          },
          "metadata": {},
          "execution_count": 46
        }
      ]
    }
  ]
}